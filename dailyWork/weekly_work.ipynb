{
 "cells": [
  {
   "cell_type": "code",
   "execution_count": 1,
   "metadata": {},
   "outputs": [],
   "source": [
    "%load_ext autoreload\n",
    "from config import Marco,content_generator\n",
    "import pandas as pd\n",
    "import os \n",
    "from utils import get_selected_cols_df,get_selected_values_df,joinStr,ensure_dir,get_daily_report_df\n",
    "from datetime import datetime \n",
    "from glob import glob\n"
   ]
  },
  {
   "cell_type": "code",
   "execution_count": 2,
   "metadata": {},
   "outputs": [],
   "source": [
    "class Marco:\n",
    "    carriers_code = [\n",
    "        'RDWY',\n",
    "        \"BTVP\",\n",
    "        \"TQLI_FW\",\n",
    "        \"HMES\",\n",
    "        \"RETL\",\n",
    "        \"HRCF\",\n",
    "        \"UTP2\",\n",
    "        \"AFXN\",\n",
    "        \"AFNW\",\n",
    "        \"AMZX\",\n",
    "        \"CVYI\",\n",
    "        \"PGAA\",\n",
    "        \"AERG\",\n",
    "        \"TFFC\",\n",
    "        \"HUBG\",\n",
    "        \"HSXF\",\n",
    "        \"CGFR\",\n",
    "        \"DSRE\",\n",
    "        \"WSXI\",\n",
    "        \"PASC\",\n",
    "        \"MGZI\",\n",
    "        \"WXLO\",\n",
    "        \"UTPA\",\n",
    "        \"DDXI\",\n",
    "        \"CAIQ\",\n",
    "        \"IVGC\",\n",
    "        \"RLIL\",\n",
    "        \"SIIH\",\n",
    "        \"TQLI_OR\",\n",
    "        \"TTMS\",\n",
    "        \"TXAP\",\n",
    "        \"USXI\",\n",
    "        \"CIAN\",\n",
    "        \"TQLL\",\n",
    "        \"VLLL\",\n",
    "        'RDWY_CRA',\n",
    "             'RDWY_FON',\n",
    "             'RDWY_FTW',\n",
    "             'RDWY_POR',\n",
    "             'RDWY_ROM',\n",
    "        \n",
    "        \"SWFC\",\n",
    "        \"SWFT\",\n",
    "        'AVRT_FTW', 'AVRT', 'AVRT_ATL','AVRT_ROM','AVRT_ORL'\n",
    "\n",
    "    ]"
   ]
  },
  {
   "cell_type": "code",
   "execution_count": 3,
   "metadata": {},
   "outputs": [
    {
     "name": "stdout",
     "output_type": "stream",
     "text": [
      ".\\weekly_data\\IOD_MONITORING_DETAIL_US_20215316227370402021720.csv\n"
     ]
    }
   ],
   "source": [
    "data_path = 'weekly_data'\n",
    "\n",
    "df = pd.read_csv(glob(f\".\\{data_path}\\*.csv\")[-1])\n",
    "print(glob(f\".\\{data_path}\\*.csv\")[-1])"
   ]
  },
  {
   "cell_type": "code",
   "execution_count": 4,
   "metadata": {},
   "outputs": [],
   "source": [
    "weekstamp = str(datetime.now().isocalendar()[1])\n",
    "date_path = os.path.join('weekly_report',weekstamp)\n",
    "ensure_dir(date_path)\n",
    "\n",
    "user_carrier_df = get_selected_values_df(df,Marco.carriers_code,'Carrier Code')\n",
    "user_carrier_df.to_csv(os.path.join(date_path,f\"all_{weekstamp}.csv\"),index = False)"
   ]
  },
  {
   "cell_type": "code",
   "execution_count": null,
   "metadata": {},
   "outputs": [],
   "source": []
  },
  {
   "cell_type": "code",
   "execution_count": null,
   "metadata": {},
   "outputs": [],
   "source": []
  },
  {
   "cell_type": "code",
   "execution_count": null,
   "metadata": {},
   "outputs": [],
   "source": []
  }
 ],
 "metadata": {
  "kernelspec": {
   "display_name": "Python 3",
   "language": "python",
   "name": "python3"
  },
  "language_info": {
   "codemirror_mode": {
    "name": "ipython",
    "version": 3
   },
   "file_extension": ".py",
   "mimetype": "text/x-python",
   "name": "python",
   "nbconvert_exporter": "python",
   "pygments_lexer": "ipython3",
   "version": "3.6.10"
  }
 },
 "nbformat": 4,
 "nbformat_minor": 4
}
