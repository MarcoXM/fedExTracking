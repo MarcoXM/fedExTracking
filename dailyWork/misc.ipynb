{
 "cells": [
  {
   "cell_type": "code",
   "execution_count": 1,
   "metadata": {},
   "outputs": [],
   "source": [
    "%load_ext autoreload\n",
    "from config import Marco,content_generator\n",
    "import pandas as pd\n",
    "import os \n",
    "from utils import get_selected_cols_df,get_selected_values_df,joinStr,ensure_dir,get_daily_report_df,getDate_in_month,get_selected_values_over_df,greeting,get_night_data\n",
    "from datetime import datetime \n",
    "from glob import glob\n",
    "import warnings\n",
    "warnings.filterwarnings(\"ignore\")\n"
   ]
  },
  {
   "cell_type": "code",
   "execution_count": 6,
   "metadata": {},
   "outputs": [
    {
     "name": "stdout",
     "output_type": "stream",
     "text": [
      ".\\misc\\US_SHIPMENT_MONITORING_EVERY2-2020-09-16.csv\n"
     ]
    },
    {
     "data": {
      "text/plain": [
       "'2020-09-16'"
      ]
     },
     "execution_count": 6,
     "metadata": {},
     "output_type": "execute_result"
    }
   ],
   "source": [
    "data_path = 'misc'\n",
    "data_file = \"US_SHIPMENT_MONITORING_EVERY2\"\n",
    "data_file1 = \"IOD_MONITORING_DETAIL_US_\"\n",
    "main_data_path =sorted(glob(f\".\\\\{data_path}\\\\{data_file}*.csv\"))[-1]\n",
    "\n",
    "##########\n",
    "\n",
    "df = pd.read_csv(main_data_path,encoding= 'unicode_escape')\n",
    "print(main_data_path)\n",
    "str(datetime.now())[0:10]"
   ]
  },
  {
   "cell_type": "code",
   "execution_count": 8,
   "metadata": {},
   "outputs": [
    {
     "data": {
      "text/plain": [
       "Index(['THIS_MONTH_SALES', 'ESTIMATED_TIME_ARRIVAL', 'BUYERPO',\n",
       "       'GERP_ORDER_NO', 'GERP_PICK_NUMBER', 'TMS_SHIPMENT_NUMBER',\n",
       "       'SHIPMENT_STATUS', 'LOAD_ID', 'LOAD_STATUS', 'WMS_STATUS', 'MODEL',\n",
       "       'MOVE_ORDER_LINE_ID', 'SOURCE_LINE_ID', 'DIVISION_CODE', 'ITEM_QTY',\n",
       "       'TOT_WGT', 'TOT_VOL', 'ORDER_VALUE', 'CUST_CD', 'CUST_NAME',\n",
       "       'FRM_SHPG_LOC_CD', 'TO_SHPG_LOC_CD', 'TO_CTY_NAME', 'TO_STA_CD',\n",
       "       'TO_PSTL', 'CARR_CD', 'SRVC_CD', 'ORDER_CREATION_DATE', 'DROP_IN_TMS',\n",
       "       'LD_CRTD_DTT', 'WMS_RELEASE_DATE', 'SHPD_DTT', 'ORI_DELY_FROM',\n",
       "       'ORI_DELY_TO', 'FRM_DLVY_DTT', 'TO_DLVY_DTT', 'PICK_APT_FRM',\n",
       "       'PICK_APT_TO', 'APT_REQUEST_DATE', 'APT_LG_SUGGEST_DATE',\n",
       "       'DROP_APT_FRM', 'DROP_APT_TO', 'APT_NO', 'PRODUCT_LEVEL1_CODE',\n",
       "       'PRODUCT_LEVEL2_CODE', 'PRODUCT_LEVEL3_CODE', 'PRODUCT_LEVEL4_CODE',\n",
       "       'WAVEKEY', 'REMARK', 'LDD_DIST', 'FREIGHTTERMSENUMVAL',\n",
       "       'PICKUPFROMDATETIME', 'PRO_NO', 'SHIP_YN', 'FRM_PSTL_CD', 'HQ',\n",
       "       'LAST_SHPGPNT_ENU', 'UPDATED_ETA_REASON', 'ORIGIN_ETA',\n",
       "       'ESTIMATED_SHIP_DATE', 'ETA1', 'ETA2', 'ETA3', 'ETA4'],\n",
       "      dtype='object')"
      ]
     },
     "execution_count": 8,
     "metadata": {},
     "output_type": "execute_result"
    }
   ],
   "source": [
    "df.columns\n",
    "\n",
    "# pull up HQ/Division/Prod1/Customer/LD#/Value and latest ETA fields"
   ]
  },
  {
   "cell_type": "code",
   "execution_count": 14,
   "metadata": {},
   "outputs": [],
   "source": [
    "selected_df = df[['CUST_NAME','PRODUCT_LEVEL1_CODE','DIVISION_CODE','LOAD_ID','ORDER_VALUE','ETA1', 'ETA2', 'ETA3', 'ETA4','TO_STA_CD']]"
   ]
  },
  {
   "cell_type": "code",
   "execution_count": 15,
   "metadata": {},
   "outputs": [],
   "source": [
    "data_file1 = \"IOD_MONITORING_DETAIL_US_\"\n",
    "main_data_path =sorted(glob(f\".\\\\{data_path}\\\\{data_file1}*.csv\"))[-1]\n",
    "df1 = pd.read_csv(main_data_path,encoding= 'unicode_escape')\n",
    "area_dict = dict(zip(df1['Load ID'], df1['To Address']))\n",
    "STORM_STATE = ['AL','GA','SC','NC']\n",
    "STORM_STATE_df = selected_df[selected_df['TO_STA_CD'].isin(STORM_STATE)]"
   ]
  },
  {
   "cell_type": "code",
   "execution_count": 47,
   "metadata": {},
   "outputs": [],
   "source": [
    "def get_city(text):\n",
    "    return text.split(\",\")[0].split()[-1]\n",
    "\n",
    "def get_zip(text):\n",
    "    return text.split(\",\")[1].split()[1]"
   ]
  },
  {
   "cell_type": "code",
   "execution_count": 41,
   "metadata": {},
   "outputs": [],
   "source": [
    "\n",
    "STORM_STATE_df['to_address'] = STORM_STATE_df.LOAD_ID.apply(lambda x : area_dict[int(x)] if x is not pd.NA and area_dict.get(x)  else \"no address\")"
   ]
  },
  {
   "cell_type": "code",
   "execution_count": 53,
   "metadata": {},
   "outputs": [],
   "source": [
    "STORM_STATE_df['County or City'] = STORM_STATE_df['to_address'].apply(lambda x : get_city(x) if x != \"no address\" else \"no city and county details\")"
   ]
  },
  {
   "cell_type": "code",
   "execution_count": 54,
   "metadata": {},
   "outputs": [],
   "source": [
    "STORM_STATE_df['zipcode'] = STORM_STATE_df['to_address'].apply(lambda x : get_zip(x) if x != \"no address\" else \"no zipcode details\")"
   ]
  },
  {
   "cell_type": "code",
   "execution_count": 55,
   "metadata": {},
   "outputs": [],
   "source": [
    "STORM_STATE_df.to_csv(\"storm_sally_area_details.csv\",index=False)"
   ]
  },
  {
   "cell_type": "code",
   "execution_count": 61,
   "metadata": {},
   "outputs": [],
   "source": [
    "writer = pd.ExcelWriter('storm_sally_area_details.xlsx', engine='xlsxwriter')\n",
    "workbook=writer.book\n",
    "worksheet=workbook.add_worksheet(\"US_SHIPMENT_MONITORING_EVERY2-2\")\n",
    "writer.sheets[\"US_SHIPMENT_MONITORING_EVERY2-2\"] = worksheet\n",
    "df.to_excel(writer,sheet_name=\"US_SHIPMENT_MONITORING_EVERY2-2\",startrow=0 , startcol=0,index= False)"
   ]
  },
  {
   "cell_type": "code",
   "execution_count": 62,
   "metadata": {},
   "outputs": [],
   "source": [
    "worksheet=workbook.add_worksheet(\"result_sally_storm\")\n",
    "writer.sheets[\"result_sally_storm\"] = worksheet\n",
    "STORM_STATE_df.to_excel(writer,sheet_name=\"result_sally_storm\",startrow=0 , startcol=0,index= False)"
   ]
  },
  {
   "cell_type": "code",
   "execution_count": 63,
   "metadata": {},
   "outputs": [],
   "source": [
    "writer.save()"
   ]
  },
  {
   "cell_type": "code",
   "execution_count": null,
   "metadata": {},
   "outputs": [],
   "source": []
  }
 ],
 "metadata": {
  "kernelspec": {
   "display_name": "Python 3",
   "language": "python",
   "name": "python3"
  },
  "language_info": {
   "codemirror_mode": {
    "name": "ipython",
    "version": 3
   },
   "file_extension": ".py",
   "mimetype": "text/x-python",
   "name": "python",
   "nbconvert_exporter": "python",
   "pygments_lexer": "ipython3",
   "version": "3.6.10"
  }
 },
 "nbformat": 4,
 "nbformat_minor": 4
}
