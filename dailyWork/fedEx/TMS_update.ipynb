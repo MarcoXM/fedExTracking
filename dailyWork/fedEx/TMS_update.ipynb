{
 "cells": [
  {
   "cell_type": "code",
   "execution_count": 1,
   "metadata": {},
   "outputs": [],
   "source": [
    "import pandas as pd\n",
    "\n",
    "import warnings\n",
    "import shutil\n",
    "from selenium.webdriver.support.ui import WebDriverWait\n",
    "from selenium.webdriver.common.by import By\n",
    "from selenium.common.exceptions import ElementNotVisibleException, ElementNotSelectableException\n",
    "import selenium.webdriver.support.expected_conditions as EC\n",
    "import time \n",
    "from datetime import datetime\n",
    "from glob import glob\n",
    "\n",
    "from tqdm.notebook import tqdm as tqdm_notebook\n",
    "import json\n",
    "import os\n",
    "import requests\n",
    "from collections import ChainMap\n",
    "import csv\n",
    "import warnings\n",
    "import sys\n",
    "sys.path.append('../')\n",
    "\n",
    "from config import Marco\n",
    "from config import chromeSetup,get_selected_cols_df,ensure_dir,get_Drivers,encode_search_word,enter_sys_value,update_iod_tms_with_now,transform\n",
    "warnings.filterwarnings(\"ignore\")"
   ]
  },
  {
   "cell_type": "code",
   "execution_count": 2,
   "metadata": {},
   "outputs": [],
   "source": [
    "from selenium.webdriver.common.keys import Keys\n",
    "def update_remark_tms_with_now(browers):\n",
    "\n",
    "    i = 0 \n",
    "    while browers.find_element_by_id(f\"iodMonitoringDetailGrid_BODY_{i}_CHECKBOX\"):\n",
    "        checkButton = browers.find_element_by_id(f\"iodMonitoringDetailGrid_BODY_{i}_CHECKBOX\")\n",
    "        time.sleep(0.1)\n",
    "        checkButton.click()\n",
    "        time.sleep(0.2)\n",
    "        enter = browers.find_element_by_id(f'iodMonitoringDetailGrid_BODY_{i}_19_INPUT')\n",
    "        enter.click()\n",
    "        enter.clear()\n",
    "        time.sleep(0.1)\n",
    "        enter.send_keys(\"EOM FAILED NO NEW UPDATE STATUS OFROM CARRIERS MARCO 10/31;\")\n",
    "        i += 1\n",
    "        if i > 30:\n",
    "            browers.find_element_by_tag_name('body').send_keys(Keys.END)"
   ]
  },
  {
   "cell_type": "code",
   "execution_count": 3,
   "metadata": {},
   "outputs": [
    {
     "name": "stdout",
     "output_type": "stream",
     "text": [
      "get browsers!!\n",
      "log in !!\n",
      "MU\n",
      "Parcel\n",
      "TL\n",
      "Total\n",
      "Total\n",
      "Done!!\n"
     ]
    }
   ],
   "source": [
    "\n",
    "# AFTERHOUR = True and datetime.now().hour > 16\n",
    "# if AFTERHOUR:\n",
    "#     time.sleep(3600)\n",
    "options = chromeSetup()\n",
    "driver = get_Drivers(options)\n",
    "original_window = driver.current_window_handle\n",
    "for window_handle in driver.window_handles:\n",
    "    if window_handle != original_window:\n",
    "        driver.switch_to.window(window_handle)\n",
    "        break"
   ]
  },
  {
   "cell_type": "code",
   "execution_count": 4,
   "metadata": {},
   "outputs": [],
   "source": [
    "time.sleep(100)"
   ]
  },
  {
   "cell_type": "code",
   "execution_count": 5,
   "metadata": {},
   "outputs": [],
   "source": [
    "wait = WebDriverWait(driver, 300, poll_frequency=10, ignored_exceptions=[ElementNotVisibleException, ElementNotSelectableException])\n",
    "element = wait.until(EC.element_to_be_clickable((By.ID, \"iodMonitoringDetailSaveExcel\")))\n",
    "element = driver.find_element_by_xpath(\"//*[@id='iodMonitoringDetailSaveExcel']\")\n",
    "# download = driver.find_elemen|t_by_id(\"iodMonitoringDetailSaveExcel\")\n",
    "element.click()"
   ]
  },
  {
   "cell_type": "code",
   "execution_count": 6,
   "metadata": {},
   "outputs": [],
   "source": [
    "time.sleep(40)"
   ]
  },
  {
   "cell_type": "markdown",
   "metadata": {},
   "source": [
    "## Change the marco.wang to your folder name"
   ]
  },
  {
   "cell_type": "code",
   "execution_count": 12,
   "metadata": {},
   "outputs": [
    {
     "name": "stdout",
     "output_type": "stream",
     "text": [
      "C:\\Users\\marco.wang\\Downloads\\IOD_MONITORING_DETAIL_US_20215716231008881992128.csv\n"
     ]
    }
   ],
   "source": [
    "\n",
    "### download file to destination\n",
    "snapshotdate = datetime.today().strftime('%Y-%m-%d %H-%M')\n",
    "downloaded_file = glob(\"C:\\\\Users\\\\marco.wang\\\\Downloads\\\\IOD_MONITORING_DETAIL_US_*.csv\")[-1]\n",
    "shutil.copy2(downloaded_file, \n",
    "             f\".\\\\data\\\\IOD_MONITORING_DETAIL_US_{snapshotdate}.csv\")\n",
    "shutil.copy2(downloaded_file, f\"..\\\\daily_route_data\\\\IOD_MONITORING_DETAIL_US_{snapshotdate}.csv\")\n",
    "print(downloaded_file)\n",
    "### rename ||\n",
    "# os.rename(glob(\".\\\\data\\\\IOD_MONITORING_DETAIL_US_*.csv\")[0],f\".\\\\data\\\\IOD_MONITORING_DETAIL_US_{snapshotdate}.csv\")\n",
    "# os.rename(glob(\"..\\\\dailyWork\\\\daily_route_data\\\\IOD_MONITORING_DETAIL_US_*.csv\")[0],f\"..\\\\dailyWork\\\\daily_route_data\\\\IOD_MONITORING_DETAIL_US_{snapshotdate}.csv\")\n",
    "os.remove(downloaded_file)\n"
   ]
  },
  {
   "cell_type": "code",
   "execution_count": null,
   "metadata": {},
   "outputs": [],
   "source": []
  },
  {
   "cell_type": "code",
   "execution_count": null,
   "metadata": {},
   "outputs": [],
   "source": []
  },
  {
   "cell_type": "code",
   "execution_count": 8,
   "metadata": {},
   "outputs": [
    {
     "ename": "SyntaxError",
     "evalue": "EOL while scanning string literal (<ipython-input-8-142b4b14f241>, line 4)",
     "output_type": "error",
     "traceback": [
      "\u001b[1;36m  File \u001b[1;32m\"<ipython-input-8-142b4b14f241>\"\u001b[1;36m, line \u001b[1;32m4\u001b[0m\n\u001b[1;33m    if len(todays_left) == 0:dasds'\u001b[0m\n\u001b[1;37m                                   ^\u001b[0m\n\u001b[1;31mSyntaxError\u001b[0m\u001b[1;31m:\u001b[0m EOL while scanning string literal\n"
     ]
    }
   ],
   "source": [
    "todays_left = df[(df['Action'] == 'Delivered') & (df['Date'] == int(datetime.now().day))]['Load ID'].to_list()\n",
    "print(len(todays_left))\n",
    "\n",
    "if len(todays_left) == 0:dasds'\n",
    "    \n",
    "    \n",
    "    \n",
    "log_name = os.path.join(\"result\",today_date,\"samedate_log.csv\")\n",
    "\n",
    "\n",
    "with open(log_name, 'w') as csvfile:\n",
    "    writer = csv.writer(csvfile)\n",
    "    writer.writerow(['load','status', 'delivery_date'])\n",
    "    \n",
    "    for load in todays_left:\n",
    "        if todays_left == 0:\n",
    "            break\n",
    "        writer.writerow([load, df[df[\"Load ID\"] == load]['Action'].values[0] ,datetime.strptime(df[df[\"Load ID\"] == load]['Status'].values[0],'%m/%d/%Y %H:%M %p').strftime(\"%m/%d/%Y %H:%M\") if len(df[df[\"Load ID\"] == load]['Status'].values[0].split()) > 1 else df[df[\"Load ID\"] == load]['Status'].values[0] ])\n",
    "        \n",
    "        \n",
    "todays_left = pd.read_csv(log_name)['load'].to_list()\n",
    "browers = driver\n",
    "\n",
    "\n",
    "# browers.maximize_window()\n",
    "\n",
    "searchLoads = browers.find_element_by_id(\"searchLoadId\")\n",
    "searchLoads.clear()\n",
    "time.sleep(0.1)\n",
    "searchLoads.send_keys(encode_search_word(todays_left))\n",
    "time.sleep(0.5)\n",
    "\n",
    "searchButton = browers.find_element_by_id(\"searchButton\")\n",
    "searchButton.click()\n",
    "time.sleep(120)"
   ]
  },
  {
   "cell_type": "code",
   "execution_count": null,
   "metadata": {},
   "outputs": [],
   "source": []
  },
  {
   "cell_type": "code",
   "execution_count": null,
   "metadata": {},
   "outputs": [],
   "source": []
  },
  {
   "cell_type": "code",
   "execution_count": null,
   "metadata": {},
   "outputs": [],
   "source": []
  },
  {
   "cell_type": "code",
   "execution_count": null,
   "metadata": {},
   "outputs": [],
   "source": []
  },
  {
   "cell_type": "code",
   "execution_count": null,
   "metadata": {},
   "outputs": [],
   "source": []
  },
  {
   "cell_type": "markdown",
   "metadata": {},
   "source": [
    "#### Click and update !!!! for today only"
   ]
  },
  {
   "cell_type": "code",
   "execution_count": null,
   "metadata": {
    "scrolled": true
   },
   "outputs": [],
   "source": [
    "# time.sleep(290)\n",
    "update_iod_tms_with_now(browers)\n",
    "11512407"
   ]
  },
  {
   "cell_type": "code",
   "execution_count": null,
   "metadata": {},
   "outputs": [],
   "source": [
    "#### def update_iod_tms_with_dateandcoment(browers,date = '03/01/2021 10:05',string = \" \"):\n",
    "    i = 0 \n",
    "    while browers.find_element_by_id(f\"iodMonitoringDetailGrid_BODY_{i}_CHECKBOX\"):\n",
    "        checkButton = browers.find_element_by_id(f\"iodMonitoringDetailGrid_BODY_{i}_CHECKBOX\")\n",
    "        time.sleep(0.1)\n",
    "        checkButton.click()\n",
    "        time.sleep(0.2)\n",
    "        enter = browers.find_element_by_id(f'iodMonitoringDetailGrid_BODY_{i}_20_INPUT')\n",
    "        enter.click()\n",
    "        time.sleep(0.1)\n",
    "        enter.send_keys(date)\n",
    "        remark = browers.find_element_by_id(f'iodMonitoringDetailGrid_BODY_{i}_21_INPUT')\n",
    "        remark.send_keys(string + \"\" + datetime.now().strftime(\"%m/%d/%Y\") + \"Marco\")\n",
    "        i += 1\n",
    "        if i > 30:\n",
    "            browers.find_element_by_tag_name('body').send_keys(Keys.END)\n",
    "browers = driver\n",
    "time.sleep(390)\n",
    "update_iod_tms_with_dateandcoment(browers)"
   ]
  },
  {
   "cell_type": "code",
   "execution_count": null,
   "metadata": {},
   "outputs": [],
   "source": [
    "\n",
    "def update_eta_tms_with_dateandcoment(browers,date = '03/08/2021 09:30',string = \" \"):\n",
    "    i = 0 \n",
    "    while browers.find_element_by_id(f\"iodMonitoringDetailGrid_BODY_{i}_CHECKBOX\"):\n",
    "        checkButton = browers.find_element_by_id(f\"iodMonitoringDetailGrid_BODY_{i}_CHECKBOX\")\n",
    "        time.sleep(0.1)\n",
    "        checkButton.click()\n",
    "        time.sleep(0.2)\n",
    "        enter = browers.find_element_by_id(f'iodMonitoringDetailGrid_BODY_{i}_17_INPUT')\n",
    "        enter.click()\n",
    "        time.sleep(0.1)\n",
    "        enter.send_keys(date)\n",
    "        \n",
    "#         T = browers.find_element_by_id(f'iodMonitoringDetailGrid_BODY_{i}_18_INPUT')\n",
    "#         T.click()\n",
    "#         time.sleep(0.1)\n",
    "#         T.send_keys(\"Carrier\")\n",
    "        \n",
    "        remark = browers.find_element_by_id(f'iodMonitoringDetailGrid_BODY_{i}_19_INPUT')\n",
    "        remark.send_keys(string + \"\" + datetime.now().strftime(\"%m/%d/%Y\") + \"Marco\")\n",
    "        i += 1\n",
    "        if i > 30:\n",
    "            browers.find_element_by_tag_name('body').send_keys(Keys.END)\n",
    "browers = driver\n",
    "update_eta_tms_with_dateandcoment(browers)"
   ]
  },
  {
   "cell_type": "code",
   "execution_count": null,
   "metadata": {},
   "outputs": [],
   "source": []
  },
  {
   "cell_type": "code",
   "execution_count": null,
   "metadata": {},
   "outputs": [],
   "source": []
  },
  {
   "cell_type": "code",
   "execution_count": null,
   "metadata": {},
   "outputs": [],
   "source": []
  },
  {
   "cell_type": "code",
   "execution_count": null,
   "metadata": {},
   "outputs": [],
   "source": []
  },
  {
   "cell_type": "code",
   "execution_count": null,
   "metadata": {},
   "outputs": [],
   "source": []
  },
  {
   "cell_type": "code",
   "execution_count": null,
   "metadata": {},
   "outputs": [],
   "source": []
  },
  {
   "cell_type": "code",
   "execution_count": null,
   "metadata": {},
   "outputs": [],
   "source": []
  },
  {
   "cell_type": "code",
   "execution_count": null,
   "metadata": {},
   "outputs": [],
   "source": []
  },
  {
   "cell_type": "code",
   "execution_count": null,
   "metadata": {},
   "outputs": [],
   "source": [
    "class P(object):\n",
    "    def __init__(self):\n",
    "        print(\"person\")\n",
    "        \n",
    "class S(P):\n",
    "     def __init__(self):\n",
    "        print(\"s\")\n",
    "        \n",
    "        super().__init__()\n",
    "        \n",
    "s = S()\n",
    "        "
   ]
  },
  {
   "cell_type": "code",
   "execution_count": null,
   "metadata": {},
   "outputs": [],
   "source": []
  }
 ],
 "metadata": {
  "kernelspec": {
   "display_name": "Python 3",
   "language": "python",
   "name": "python3"
  },
  "language_info": {
   "codemirror_mode": {
    "name": "ipython",
    "version": 3
   },
   "file_extension": ".py",
   "mimetype": "text/x-python",
   "name": "python",
   "nbconvert_exporter": "python",
   "pygments_lexer": "ipython3",
   "version": "3.6.10"
  }
 },
 "nbformat": 4,
 "nbformat_minor": 2
}
