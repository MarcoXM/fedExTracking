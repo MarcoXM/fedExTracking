{
 "cells": [
  {
   "cell_type": "code",
   "execution_count": 1,
   "metadata": {},
   "outputs": [],
   "source": [
    "import sys\n",
    "sys.path.append('../')\n",
    "from bs4 import BeautifulSoup\n",
    "import requests\n",
    "from selenium import webdriver\n",
    "import json\n",
    "import urllib\n",
    "import time \n",
    "import os\n",
    "import pandas as pd\n",
    "from selenium.webdriver.chrome.options import Options\n",
    "from glob import glob\n",
    "from collections import ChainMap\n",
    "from tqdm.notebook import tqdm as tqdm_notebook\n",
    "from datetime import datetime \n",
    "from selenium.webdriver.common.keys import Keys\n",
    "from config import chromeSetup,get_selected_cols_df,ensure_dir,get_Drivers,encode_search_word,enter_sys_value,update_iod_tms_with_now,transform"
   ]
  },
  {
   "cell_type": "code",
   "execution_count": 2,
   "metadata": {},
   "outputs": [
    {
     "data": {
      "text/plain": [
       "['Sales',\n",
       " 'Load ID',\n",
       " 'Stop Seq',\n",
       " 'Carrier Code',\n",
       " 'Carrier Name',\n",
       " 'Service Type',\n",
       " 'Alert Type',\n",
       " 'Ship Date',\n",
       " 'ETA',\n",
       " 'From Address',\n",
       " 'To Address',\n",
       " 'Customer Name',\n",
       " 'GERP Order No',\n",
       " 'Pick Order No',\n",
       " 'Pro No']"
      ]
     },
     "execution_count": 2,
     "metadata": {},
     "output_type": "execute_result"
    }
   ],
   "source": [
    "\n",
    "from config import Marco\n",
    "\n",
    "marco = Marco()\n",
    "marco.colsSend2Carrier"
   ]
  },
  {
   "cell_type": "code",
   "execution_count": 3,
   "metadata": {},
   "outputs": [],
   "source": [
    "sup = pd.read_excel(glob(\"table_result\\\\result\\\\utp2.xlsx\")[-1])\n",
    "sup.head()\n",
    "for c in sup.columns:\n",
    "    sup[c] = sup[c].astype(str)\n",
    "\n",
    "sub_dit =  { x: y for i,(x,y) in sup.iterrows() }\n"
   ]
  },
  {
   "cell_type": "code",
   "execution_count": 4,
   "metadata": {},
   "outputs": [],
   "source": [
    "\n",
    "chrome_options = Options()\n",
    "chrome_options.add_argument(\"--headless\")\n",
    "\n",
    "browers = webdriver.Chrome(\"C:\\\\Users\\\\marco.wang\\\\Downloads\\\\chromedriver_win32\\\\chromedriver\")\n",
    "\n",
    "CARRIER_CODE = ['UTP2',\n",
    "               ]\n",
    "FILE_PATH = glob(\".\\data\\*.csv\")[-1]\n",
    "df_origin = pd.read_csv(FILE_PATH)\n",
    "df = df_origin[df_origin['Carrier Code'].isin(CARRIER_CODE)]\n",
    "\n",
    "\n",
    "\n",
    "from selenium import webdriver\n",
    "import time \n",
    "\n",
    " \n",
    "    \n",
    "\n",
    "\n"
   ]
  },
  {
   "cell_type": "code",
   "execution_count": 5,
   "metadata": {},
   "outputs": [
    {
     "name": "stderr",
     "output_type": "stream",
     "text": [
      "C:\\Users\\marco.wang\\Miniconda3\\envs\\pantos\\lib\\site-packages\\ipykernel_launcher.py:1: SettingWithCopyWarning: \n",
      "A value is trying to be set on a copy of a slice from a DataFrame.\n",
      "Try using .loc[row_indexer,col_indexer] = value instead\n",
      "\n",
      "See the caveats in the documentation: https://pandas.pydata.org/pandas-docs/stable/user_guide/indexing.html#returning-a-view-versus-a-copy\n",
      "  \"\"\"Entry point for launching an IPython kernel.\n"
     ]
    }
   ],
   "source": [
    "df['Pro No'] = df['Pro No'].apply(lambda x : sub_dit[x] if x in sub_dit else x )"
   ]
  },
  {
   "cell_type": "code",
   "execution_count": 6,
   "metadata": {},
   "outputs": [],
   "source": [
    "browers.get(\"https://client.freightapp.com/tms/template/orderTracking.html\")\n",
    "dit = {}"
   ]
  },
  {
   "cell_type": "code",
   "execution_count": 7,
   "metadata": {},
   "outputs": [],
   "source": [
    "idx = browers.find_element_by_xpath('//*[@id=\"details_section\"]/div/div').text.split(\"\\n\")"
   ]
  },
  {
   "cell_type": "code",
   "execution_count": 8,
   "metadata": {
    "scrolled": true
   },
   "outputs": [
    {
     "data": {
      "application/vnd.jupyter.widget-view+json": {
       "model_id": "41677e319ae54ed1a8bc73265c72c8e4",
       "version_major": 2,
       "version_minor": 0
      },
      "text/plain": [
       "HBox(children=(FloatProgress(value=0.0, max=133.0), HTML(value='')))"
      ]
     },
     "metadata": {},
     "output_type": "display_data"
    },
    {
     "name": "stdout",
     "output_type": "stream",
     "text": [
      "50102356\n",
      "50102404\n",
      "50102402\n",
      "50102401\n",
      "50102428\n",
      "50102427\n",
      "50102426\n",
      "50102425\n",
      "\n"
     ]
    }
   ],
   "source": [
    "\n",
    "for load in tqdm_notebook(df['Pro No']):\n",
    "    search = browers.find_element_by_xpath('//*[@id=\"tracking_no\"]')\n",
    "    search.clear()\n",
    "    time.sleep(0.1)\n",
    "    search.send_keys(load)\n",
    "\n",
    "    # search.clear()\n",
    "    search.send_keys(Keys.ENTER)\n",
    "    time.sleep(1.2)\n",
    "    try:\n",
    "        log_list = browers.find_element_by_xpath('//*[@id=\"log_list\"]')\n",
    "        state = log_list.text.split(\"\\n\")\n",
    "        details = browers.find_element_by_xpath('//*[@id=\"details_section\"]/div/div').text.split(\"\\n\")\n",
    "        idx = details[1].index('Delivery Appointment')\n",
    "        dit[load] = {\n",
    "            \"update date:\": state[1],\n",
    "            \"status\" : state[2],\n",
    "            \"appt\":details[1][idx:]\n",
    "        }\n",
    "    except:\n",
    "        print(load)\n"
   ]
  },
  {
   "cell_type": "code",
   "execution_count": 9,
   "metadata": {},
   "outputs": [
    {
     "name": "stdout",
     "output_type": "stream",
     "text": [
      "2021-06-07\n"
     ]
    }
   ],
   "source": [
    "timestamp = str(datetime.now())        \n",
    "today_date = timestamp[:10]\n",
    "print(today_date)\n",
    "timestamp = \"\".join([d for d  in timestamp if d.isdigit()])\n",
    "ensure_dir(os.path.join(\"table_result\",today_date))\n",
    "df = df[marco.colsSend2Carrier]\n"
   ]
  },
  {
   "cell_type": "code",
   "execution_count": 10,
   "metadata": {},
   "outputs": [],
   "source": [
    "df['update date'] = df['Pro No'].apply(lambda x : dit[x]['update date:'] if dit.get(x) else \"NA\")\n",
    "df['status'] = df['Pro No'].apply(lambda x : \" \".join(dit[x]['status'].split()[2:]) if dit.get(x) else \"NA\")\n",
    "df['appt time'] = df['Pro No'].apply(lambda x : dit[x]['appt'] if dit.get(x) else \"NA\")\n",
    "df['delivered_completed'] = df['status'].apply(lambda x : \"Yes\" if \"Delivery Completed\" in x else \"No\")\n",
    "df['Stop Seq'] = df['From Address'].apply(lambda x : x[-12:][:2])\n",
    "df.rename(columns= {\n",
    "    'Stop Seq':\"Ship State\"\n",
    "},inplace = True)\n",
    "\n",
    "df = df.sort_values(\"Ship State\")\n",
    "df.to_excel(os.path.join(\"table_result\",today_date,f\"report_UTP2_{timestamp[8:12]}.xlsx\"),index=False,engine='xlsxwriter')"
   ]
  },
  {
   "cell_type": "code",
   "execution_count": null,
   "metadata": {},
   "outputs": [],
   "source": []
  },
  {
   "cell_type": "code",
   "execution_count": null,
   "metadata": {},
   "outputs": [],
   "source": []
  },
  {
   "cell_type": "code",
   "execution_count": null,
   "metadata": {},
   "outputs": [],
   "source": []
  },
  {
   "cell_type": "code",
   "execution_count": null,
   "metadata": {},
   "outputs": [],
   "source": []
  }
 ],
 "metadata": {
  "kernelspec": {
   "display_name": "Python 3",
   "language": "python",
   "name": "python3"
  },
  "language_info": {
   "codemirror_mode": {
    "name": "ipython",
    "version": 3
   },
   "file_extension": ".py",
   "mimetype": "text/x-python",
   "name": "python",
   "nbconvert_exporter": "python",
   "pygments_lexer": "ipython3",
   "version": "3.6.10"
  }
 },
 "nbformat": 4,
 "nbformat_minor": 4
}
