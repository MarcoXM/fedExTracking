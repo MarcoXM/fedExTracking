{
 "cells": [
  {
   "cell_type": "code",
   "execution_count": 1,
   "metadata": {},
   "outputs": [],
   "source": [
    "import pandas as pd\n",
    "from config import chromeSetup,get_selected_cols_df,ensure_dir,get_Drivers,encode_search_word,enter_sys_value,update_iod_tms_with_now,transform\n",
    "import warnings\n",
    "import shutil\n",
    "from selenium.webdriver.support.ui import WebDriverWait\n",
    "from selenium.webdriver.common.by import By\n",
    "from selenium.common.exceptions import ElementNotVisibleException, ElementNotSelectableException\n",
    "import selenium.webdriver.support.expected_conditions as EC\n",
    "import time \n",
    "from datetime import datetime\n",
    "from glob import glob\n",
    "from tqdm.notebook import tqdm as tqdm_notebook\n",
    "import json\n",
    "import os\n",
    "import requests\n",
    "from dateutil.relativedelta import relativedelta, FR,TH\n",
    "from selenium.webdriver.support.ui import Select\n",
    "from collections import ChainMap\n",
    "from selenium import webdriver\n",
    "import numpy as np"
   ]
  },
  {
   "cell_type": "code",
   "execution_count": 2,
   "metadata": {},
   "outputs": [
    {
     "data": {
      "text/plain": [
       "'2021-05-19'"
      ]
     },
     "execution_count": 2,
     "metadata": {},
     "output_type": "execute_result"
    }
   ],
   "source": [
    "timestamp = str(datetime.now())        \n",
    "today_date = timestamp[:10]\n",
    "log_name = os.path.join(today_date,\"samedate_log.csv\")\n",
    "today_date\n"
   ]
  },
  {
   "cell_type": "code",
   "execution_count": 3,
   "metadata": {},
   "outputs": [],
   "source": [
    "### Need changed\n",
    "\n",
    "json_path = \".\\\\config.json\"\n",
    "webdriver_path = \"C:\\\\Users\\\\marco.wang\\\\Downloads\\\\chromedriver_win32\\\\chromedriver\""
   ]
  },
  {
   "cell_type": "code",
   "execution_count": 4,
   "metadata": {},
   "outputs": [
    {
     "name": "stdout",
     "output_type": "stream",
     "text": [
      "get browsers!!\n",
      "log in !!\n"
     ]
    }
   ],
   "source": [
    "options = chromeSetup()\n",
    "\n",
    "with open(json_path) as f:\n",
    "    data = json.load(f)\n",
    "\n",
    "browers = webdriver.Chrome(webdriver_path,options=options)\n",
    "\n",
    "print(\"get browsers!!\")\n",
    "log_in_url = 'http://tms.us.lge.com/tm/framework/Frame.jsp'\n",
    "browers.get(log_in_url)\n",
    "time.sleep(3)\n",
    "browers.switch_to.frame('i2ui_shell_content')\n",
    "time.sleep(3)\n",
    "browers.switch_to.frame('resultFrame')\n",
    "\n",
    "\n",
    "user = browers.find_element_by_name(\"loginUser\")\n",
    "user.send_keys(data['user'])\n",
    "password = browers.find_element_by_name(\"dspLoginPassword\")\n",
    "password.send_keys(data['password'])\n",
    "print(\"log in !!\")\n",
    "\n",
    "button = browers.find_element_by_id(\"buttonEmphasized\")\n",
    "button.click()\n",
    "\n",
    "\n",
    "time.sleep(3)\n",
    "browers.switch_to.default_content()\n",
    "browers.switch_to.frame('i2ui_shell_content')\n",
    "time.sleep(3)\n",
    "browers.switch_to.frame('nav')\n",
    "\n"
   ]
  },
  {
   "cell_type": "code",
   "execution_count": 5,
   "metadata": {},
   "outputs": [],
   "source": [
    "browers.switch_to.default_content()\n",
    "browers.switch_to.frame('i2ui_shell_content')\n",
    "time.sleep(3)\n",
    "browers.switch_to.frame('nav')\n",
    "IOD = browers.find_element_by_xpath(\"//*[@id='TREECELL_navigation_18']/a\")\n",
    "IOD.click()\n",
    "time.sleep(3)\n"
   ]
  },
  {
   "cell_type": "code",
   "execution_count": 6,
   "metadata": {},
   "outputs": [],
   "source": [
    "\n",
    "status = browers.find_element_by_xpath(\"//*[@id='TREECELL_navigation_18_2']/a[2]\")\n",
    "status.click()\n",
    "time.sleep(8)"
   ]
  },
  {
   "cell_type": "code",
   "execution_count": 6,
   "metadata": {},
   "outputs": [],
   "source": [
    "browers.switch_to.default_content()\n",
    "time.sleep(0.3)\n",
    "browers.switch_to.frame('i2ui_shell_content')\n",
    "time.sleep(20)\n",
    "browers.switch_to.frame('resultFrame')\n",
    "time.sleep(0.3)\n"
   ]
  },
  {
   "cell_type": "code",
   "execution_count": 7,
   "metadata": {},
   "outputs": [
    {
     "ename": "NoSuchElementException",
     "evalue": "Message: no such element: Unable to locate element: {\"method\":\"css selector\",\"selector\":\"[id=\"searchDiv\"]\"}\n  (Session info: chrome=88.0.4324.190)\n",
     "output_type": "error",
     "traceback": [
      "\u001b[1;31m---------------------------------------------------------------------------\u001b[0m",
      "\u001b[1;31mNoSuchElementException\u001b[0m                    Traceback (most recent call last)",
      "\u001b[1;32m<ipython-input-7-68596d9e7695>\u001b[0m in \u001b[0;36m<module>\u001b[1;34m\u001b[0m\n\u001b[0;32m      1\u001b[0m \u001b[0mjs\u001b[0m \u001b[1;33m=\u001b[0m \u001b[1;34m'document.querySelectorAll(\"select\")[0].style.display=\"block\";'\u001b[0m\u001b[1;33m\u001b[0m\u001b[1;33m\u001b[0m\u001b[0m\n\u001b[0;32m      2\u001b[0m \u001b[0mbrowers\u001b[0m\u001b[1;33m.\u001b[0m\u001b[0mexecute_script\u001b[0m\u001b[1;33m(\u001b[0m\u001b[0mjs\u001b[0m\u001b[1;33m)\u001b[0m\u001b[1;33m\u001b[0m\u001b[1;33m\u001b[0m\u001b[0m\n\u001b[1;32m----> 3\u001b[1;33m \u001b[0ms1\u001b[0m \u001b[1;33m=\u001b[0m \u001b[0mSelect\u001b[0m\u001b[1;33m(\u001b[0m\u001b[0mbrowers\u001b[0m\u001b[1;33m.\u001b[0m\u001b[0mfind_element_by_id\u001b[0m\u001b[1;33m(\u001b[0m\u001b[1;34m'searchDiv'\u001b[0m\u001b[1;33m)\u001b[0m\u001b[1;33m)\u001b[0m\u001b[1;33m\u001b[0m\u001b[1;33m\u001b[0m\u001b[0m\n\u001b[0m\u001b[0;32m      4\u001b[0m \u001b[0ms1\u001b[0m\u001b[1;33m.\u001b[0m\u001b[0mselect_by_value\u001b[0m\u001b[1;33m(\u001b[0m\u001b[1;34m\"LGEUS\"\u001b[0m\u001b[1;33m)\u001b[0m\u001b[1;33m\u001b[0m\u001b[1;33m\u001b[0m\u001b[0m\n\u001b[0;32m      5\u001b[0m \u001b[0mjs\u001b[0m \u001b[1;33m=\u001b[0m \u001b[1;34m'document.querySelectorAll(\"select\")[2].style.display=\"block\";'\u001b[0m\u001b[1;33m\u001b[0m\u001b[1;33m\u001b[0m\u001b[0m\n",
      "\u001b[1;32m~\\Miniconda3\\envs\\pantos\\lib\\site-packages\\selenium\\webdriver\\remote\\webdriver.py\u001b[0m in \u001b[0;36mfind_element_by_id\u001b[1;34m(self, id_)\u001b[0m\n\u001b[0;32m    358\u001b[0m             \u001b[0melement\u001b[0m \u001b[1;33m=\u001b[0m \u001b[0mdriver\u001b[0m\u001b[1;33m.\u001b[0m\u001b[0mfind_element_by_id\u001b[0m\u001b[1;33m(\u001b[0m\u001b[1;34m'foo'\u001b[0m\u001b[1;33m)\u001b[0m\u001b[1;33m\u001b[0m\u001b[1;33m\u001b[0m\u001b[0m\n\u001b[0;32m    359\u001b[0m         \"\"\"\n\u001b[1;32m--> 360\u001b[1;33m         \u001b[1;32mreturn\u001b[0m \u001b[0mself\u001b[0m\u001b[1;33m.\u001b[0m\u001b[0mfind_element\u001b[0m\u001b[1;33m(\u001b[0m\u001b[0mby\u001b[0m\u001b[1;33m=\u001b[0m\u001b[0mBy\u001b[0m\u001b[1;33m.\u001b[0m\u001b[0mID\u001b[0m\u001b[1;33m,\u001b[0m \u001b[0mvalue\u001b[0m\u001b[1;33m=\u001b[0m\u001b[0mid_\u001b[0m\u001b[1;33m)\u001b[0m\u001b[1;33m\u001b[0m\u001b[1;33m\u001b[0m\u001b[0m\n\u001b[0m\u001b[0;32m    361\u001b[0m \u001b[1;33m\u001b[0m\u001b[0m\n\u001b[0;32m    362\u001b[0m     \u001b[1;32mdef\u001b[0m \u001b[0mfind_elements_by_id\u001b[0m\u001b[1;33m(\u001b[0m\u001b[0mself\u001b[0m\u001b[1;33m,\u001b[0m \u001b[0mid_\u001b[0m\u001b[1;33m)\u001b[0m\u001b[1;33m:\u001b[0m\u001b[1;33m\u001b[0m\u001b[1;33m\u001b[0m\u001b[0m\n",
      "\u001b[1;32m~\\Miniconda3\\envs\\pantos\\lib\\site-packages\\selenium\\webdriver\\remote\\webdriver.py\u001b[0m in \u001b[0;36mfind_element\u001b[1;34m(self, by, value)\u001b[0m\n\u001b[0;32m    976\u001b[0m         return self.execute(Command.FIND_ELEMENT, {\n\u001b[0;32m    977\u001b[0m             \u001b[1;34m'using'\u001b[0m\u001b[1;33m:\u001b[0m \u001b[0mby\u001b[0m\u001b[1;33m,\u001b[0m\u001b[1;33m\u001b[0m\u001b[1;33m\u001b[0m\u001b[0m\n\u001b[1;32m--> 978\u001b[1;33m             'value': value})['value']\n\u001b[0m\u001b[0;32m    979\u001b[0m \u001b[1;33m\u001b[0m\u001b[0m\n\u001b[0;32m    980\u001b[0m     \u001b[1;32mdef\u001b[0m \u001b[0mfind_elements\u001b[0m\u001b[1;33m(\u001b[0m\u001b[0mself\u001b[0m\u001b[1;33m,\u001b[0m \u001b[0mby\u001b[0m\u001b[1;33m=\u001b[0m\u001b[0mBy\u001b[0m\u001b[1;33m.\u001b[0m\u001b[0mID\u001b[0m\u001b[1;33m,\u001b[0m \u001b[0mvalue\u001b[0m\u001b[1;33m=\u001b[0m\u001b[1;32mNone\u001b[0m\u001b[1;33m)\u001b[0m\u001b[1;33m:\u001b[0m\u001b[1;33m\u001b[0m\u001b[1;33m\u001b[0m\u001b[0m\n",
      "\u001b[1;32m~\\Miniconda3\\envs\\pantos\\lib\\site-packages\\selenium\\webdriver\\remote\\webdriver.py\u001b[0m in \u001b[0;36mexecute\u001b[1;34m(self, driver_command, params)\u001b[0m\n\u001b[0;32m    319\u001b[0m         \u001b[0mresponse\u001b[0m \u001b[1;33m=\u001b[0m \u001b[0mself\u001b[0m\u001b[1;33m.\u001b[0m\u001b[0mcommand_executor\u001b[0m\u001b[1;33m.\u001b[0m\u001b[0mexecute\u001b[0m\u001b[1;33m(\u001b[0m\u001b[0mdriver_command\u001b[0m\u001b[1;33m,\u001b[0m \u001b[0mparams\u001b[0m\u001b[1;33m)\u001b[0m\u001b[1;33m\u001b[0m\u001b[1;33m\u001b[0m\u001b[0m\n\u001b[0;32m    320\u001b[0m         \u001b[1;32mif\u001b[0m \u001b[0mresponse\u001b[0m\u001b[1;33m:\u001b[0m\u001b[1;33m\u001b[0m\u001b[1;33m\u001b[0m\u001b[0m\n\u001b[1;32m--> 321\u001b[1;33m             \u001b[0mself\u001b[0m\u001b[1;33m.\u001b[0m\u001b[0merror_handler\u001b[0m\u001b[1;33m.\u001b[0m\u001b[0mcheck_response\u001b[0m\u001b[1;33m(\u001b[0m\u001b[0mresponse\u001b[0m\u001b[1;33m)\u001b[0m\u001b[1;33m\u001b[0m\u001b[1;33m\u001b[0m\u001b[0m\n\u001b[0m\u001b[0;32m    322\u001b[0m             response['value'] = self._unwrap_value(\n\u001b[0;32m    323\u001b[0m                 response.get('value', None))\n",
      "\u001b[1;32m~\\Miniconda3\\envs\\pantos\\lib\\site-packages\\selenium\\webdriver\\remote\\errorhandler.py\u001b[0m in \u001b[0;36mcheck_response\u001b[1;34m(self, response)\u001b[0m\n\u001b[0;32m    240\u001b[0m                 \u001b[0malert_text\u001b[0m \u001b[1;33m=\u001b[0m \u001b[0mvalue\u001b[0m\u001b[1;33m[\u001b[0m\u001b[1;34m'alert'\u001b[0m\u001b[1;33m]\u001b[0m\u001b[1;33m.\u001b[0m\u001b[0mget\u001b[0m\u001b[1;33m(\u001b[0m\u001b[1;34m'text'\u001b[0m\u001b[1;33m)\u001b[0m\u001b[1;33m\u001b[0m\u001b[1;33m\u001b[0m\u001b[0m\n\u001b[0;32m    241\u001b[0m             \u001b[1;32mraise\u001b[0m \u001b[0mexception_class\u001b[0m\u001b[1;33m(\u001b[0m\u001b[0mmessage\u001b[0m\u001b[1;33m,\u001b[0m \u001b[0mscreen\u001b[0m\u001b[1;33m,\u001b[0m \u001b[0mstacktrace\u001b[0m\u001b[1;33m,\u001b[0m \u001b[0malert_text\u001b[0m\u001b[1;33m)\u001b[0m\u001b[1;33m\u001b[0m\u001b[1;33m\u001b[0m\u001b[0m\n\u001b[1;32m--> 242\u001b[1;33m         \u001b[1;32mraise\u001b[0m \u001b[0mexception_class\u001b[0m\u001b[1;33m(\u001b[0m\u001b[0mmessage\u001b[0m\u001b[1;33m,\u001b[0m \u001b[0mscreen\u001b[0m\u001b[1;33m,\u001b[0m \u001b[0mstacktrace\u001b[0m\u001b[1;33m)\u001b[0m\u001b[1;33m\u001b[0m\u001b[1;33m\u001b[0m\u001b[0m\n\u001b[0m\u001b[0;32m    243\u001b[0m \u001b[1;33m\u001b[0m\u001b[0m\n\u001b[0;32m    244\u001b[0m     \u001b[1;32mdef\u001b[0m \u001b[0m_value_or_default\u001b[0m\u001b[1;33m(\u001b[0m\u001b[0mself\u001b[0m\u001b[1;33m,\u001b[0m \u001b[0mobj\u001b[0m\u001b[1;33m,\u001b[0m \u001b[0mkey\u001b[0m\u001b[1;33m,\u001b[0m \u001b[0mdefault\u001b[0m\u001b[1;33m)\u001b[0m\u001b[1;33m:\u001b[0m\u001b[1;33m\u001b[0m\u001b[1;33m\u001b[0m\u001b[0m\n",
      "\u001b[1;31mNoSuchElementException\u001b[0m: Message: no such element: Unable to locate element: {\"method\":\"css selector\",\"selector\":\"[id=\"searchDiv\"]\"}\n  (Session info: chrome=88.0.4324.190)\n"
     ]
    }
   ],
   "source": [
    "js = 'document.querySelectorAll(\"select\")[0].style.display=\"block\";'\n",
    "browers.execute_script(js)\n",
    "s1 = Select(browers.find_element_by_id('searchDiv'))\n",
    "s1.select_by_value(\"LGEUS\")\n",
    "js = 'document.querySelectorAll(\"select\")[2].style.display=\"block\";'\n",
    "browers.execute_script(js)\n",
    "\n",
    "s2 = Select(browers.find_element_by_id('searchIodCmplYn'))\n",
    "s2.select_by_index(0)"
   ]
  },
  {
   "cell_type": "code",
   "execution_count": 9,
   "metadata": {},
   "outputs": [],
   "source": [
    "last_friday = (datetime.now() + relativedelta(weekday=FR(-2))).strftime(\"%m/%d/%Y\")\n",
    "last_thurday = (datetime.now() + relativedelta(weekday=TH(-1))).strftime(\"%m/%d/%Y\")"
   ]
  },
  {
   "cell_type": "code",
   "execution_count": 10,
   "metadata": {},
   "outputs": [
    {
     "name": "stdout",
     "output_type": "stream",
     "text": [
      "last_friday  10/09/2020\n",
      "last_thurday  10/15/2020\n"
     ]
    }
   ],
   "source": [
    "searchStartEta = browers.find_element_by_id(\"searchStartEta\")\n",
    "searchStartEta.click()\n",
    "print(\"last_friday \", last_friday)\n",
    "searchStartEta.send_keys(last_friday)\n",
    "searchEndEta = browers.find_element_by_id(\"searchEndEta\")\n",
    "searchEndEta.click()\n",
    "print(\"last_thurday \" ,last_thurday)\n",
    "searchEndEta.send_keys(last_thurday)"
   ]
  },
  {
   "cell_type": "code",
   "execution_count": 11,
   "metadata": {},
   "outputs": [],
   "source": [
    "searchButton = browers.find_element_by_id(\"searchButton\")\n",
    "searchButton.click()"
   ]
  },
  {
   "cell_type": "code",
   "execution_count": 12,
   "metadata": {},
   "outputs": [
    {
     "name": "stdout",
     "output_type": "stream",
     "text": [
      "TL\n",
      "Total\n",
      "Total\n",
      "Done!!\n"
     ]
    }
   ],
   "source": [
    "browers.switch_to.default_content()\n",
    "time.sleep(0.3)\n",
    "browers.switch_to.frame('i2ui_shell_content')\n",
    "time.sleep(100)\n",
    "browers.switch_to.frame('resultFrame')\n",
    "time.sleep(0.3)\n",
    "row = 8\n",
    "while row < 20:\n",
    "    total = browers.find_element_by_id(f\"iodMonitoringStatusGrid_BODY_{row}_2\")\n",
    "    print(total.text)\n",
    "    if total.text == \"Total\":\n",
    "        print(total.text)\n",
    "        break\n",
    "    else: \n",
    "        row += 1\n",
    "total = browers.find_element_by_xpath(f\"//*[@id='iodMonitoringStatusGrid_BODY_{row}_3']/span/a\")\n",
    "time.sleep(30)\n",
    "total.click()\n",
    "print(\"Done!!\")"
   ]
  },
  {
   "cell_type": "code",
   "execution_count": 13,
   "metadata": {},
   "outputs": [],
   "source": [
    "driver = browers\n",
    "original_window = driver.current_window_handle\n",
    "for window_handle in driver.window_handles:\n",
    "    if window_handle != original_window:\n",
    "        driver.switch_to.window(window_handle)\n",
    "        break\n",
    "             \n",
    "files = glob(\"C:\\\\Users\\\\marco.wang\\\\Downloads\\\\IOD_MONITORING_DETAIL_US_*.csv\")\n",
    "for f in files:\n",
    "    os.remove(f)\n",
    "time.sleep(100)"
   ]
  },
  {
   "cell_type": "code",
   "execution_count": 14,
   "metadata": {},
   "outputs": [],
   "source": [
    "wait = WebDriverWait(driver, 300, poll_frequency=10, ignored_exceptions=[ElementNotVisibleException, ElementNotSelectableException])\n",
    "element = wait.until(EC.element_to_be_clickable((By.ID, \"iodMonitoringDetailSaveExcel\")))\n",
    "        \n",
    "# download = driver.find_element_by_id(\"iodMonitoringDetailSaveExcel\")\n",
    "element.click()"
   ]
  },
  {
   "cell_type": "code",
   "execution_count": 15,
   "metadata": {},
   "outputs": [],
   "source": [
    "\n",
    "### move the data \n",
    "time.sleep(180)"
   ]
  },
  {
   "cell_type": "code",
   "execution_count": 14,
   "metadata": {},
   "outputs": [
    {
     "ename": "IndexError",
     "evalue": "list index out of range",
     "output_type": "error",
     "traceback": [
      "\u001b[1;31m---------------------------------------------------------------------------\u001b[0m",
      "\u001b[1;31mIndexError\u001b[0m                                Traceback (most recent call last)",
      "\u001b[1;32m<ipython-input-14-385ff5174cd2>\u001b[0m in \u001b[0;36m<module>\u001b[1;34m\u001b[0m\n\u001b[1;32m----> 1\u001b[1;33m \u001b[0mdownloaded_file\u001b[0m \u001b[1;33m=\u001b[0m \u001b[0mglob\u001b[0m\u001b[1;33m(\u001b[0m\u001b[1;34m\"C:\\\\Users\\\\marco.wang\\\\Downloads\\\\IOD_MONITORING_DETAIL_US_*.csv\"\u001b[0m\u001b[1;33m)\u001b[0m\u001b[1;33m[\u001b[0m\u001b[1;33m-\u001b[0m\u001b[1;36m1\u001b[0m\u001b[1;33m]\u001b[0m\u001b[1;33m\u001b[0m\u001b[1;33m\u001b[0m\u001b[0m\n\u001b[0m\u001b[0;32m      2\u001b[0m \u001b[0mshutil\u001b[0m\u001b[1;33m.\u001b[0m\u001b[0mmove\u001b[0m\u001b[1;33m(\u001b[0m\u001b[0mdownloaded_file\u001b[0m\u001b[1;33m,\u001b[0m \u001b[1;34m\".\\\\weekly_to_data\"\u001b[0m\u001b[1;33m)\u001b[0m\u001b[1;33m\u001b[0m\u001b[1;33m\u001b[0m\u001b[0m\n",
      "\u001b[1;31mIndexError\u001b[0m: list index out of range"
     ]
    }
   ],
   "source": [
    "\n",
    "\n",
    "downloaded_file = glob(\"C:\\\\Users\\\\marco.wang\\\\Downloads\\\\IOD_MONITORING_DETAIL_US_*.csv\")[-1]\n",
    "shutil.move(downloaded_file, \".\\\\weekly_to_data\")\n"
   ]
  },
  {
   "cell_type": "code",
   "execution_count": 3,
   "metadata": {},
   "outputs": [],
   "source": [
    "SANGYEOP_CARRIER_CODE = pd.read_excel(\"marco_carriers.xlsx\")['Carrier Code'].to_list()\n",
    "\n"
   ]
  },
  {
   "cell_type": "code",
   "execution_count": 4,
   "metadata": {},
   "outputs": [
    {
     "name": "stdout",
     "output_type": "stream",
     "text": [
      ".\\weekly_to_data\\IOD_MONITORING_DETAIL_US_2021419162145458260932.csv\n"
     ]
    }
   ],
   "source": [
    "\n",
    "FILE_PATH = glob(\".\\\\weekly_to_data\\\\IOD_MONITORING_DETAIL_US_*.csv\")[-1]\n",
    "print(FILE_PATH)\n",
    "df_origin = pd.read_csv(FILE_PATH)\n",
    "## Columns kept\n",
    "cols = ['Pro No','Load ID','Stop Seq','Carrier Code','Service Type','Sales','Ship Date',\n",
    "        'Drop Appointment','IOD Report Date','Delivery Date','ETA','Customer Name']\n",
    "df = df_origin[df_origin['Carrier Code'].isin(SANGYEOP_CARRIER_CODE)][cols].reset_index(drop=True)"
   ]
  },
  {
   "cell_type": "code",
   "execution_count": 5,
   "metadata": {},
   "outputs": [],
   "source": [
    "df['Carrier Code'] = df['Carrier Code'].replace(['RDWY_CRA',\n",
    "             'RDWY_FON',\n",
    "             'RDWY_FTW',\n",
    "             'RDWY_POR',\n",
    "             'RDWY_ROM'],'RDWY')\n",
    "df['Carrier Code'] = df['Carrier Code'].replace(['AVRT_FTW', 'AVRT', 'AVRT_ATL'],'AVRT')\n"
   ]
  },
  {
   "cell_type": "code",
   "execution_count": 6,
   "metadata": {},
   "outputs": [
    {
     "data": {
      "text/plain": [
       "array(['PGAA', 'AERG', 'CGFR', 'ISCO', 'TQLI_FW', 'AFNW', 'TFXH', 'HSXF',\n",
       "       'UTP2', 'HRCF', 'RDWY', 'AVRT', 'BTVP', 'HMES', 'RETL', 'DSRE',\n",
       "       'NFIL', 'CVYI', 'AFXN'], dtype=object)"
      ]
     },
     "execution_count": 6,
     "metadata": {},
     "output_type": "execute_result"
    }
   ],
   "source": [
    "df['Carrier Code'].unique()"
   ]
  },
  {
   "cell_type": "code",
   "execution_count": 7,
   "metadata": {},
   "outputs": [],
   "source": [
    "df['Ship Date'] = df['Ship Date'].apply(pd.to_datetime)\n",
    "df['Drop Appointment'] = df['Drop Appointment'].apply(pd.to_datetime)\n",
    "df['IOD Report Date'] = df['IOD Report Date'].apply(pd.to_datetime)\n",
    "df['Delivery Date'] = df['Delivery Date'].apply(pd.to_datetime)\n",
    "df.ETA = df.ETA.apply(pd.to_datetime)\n"
   ]
  },
  {
   "cell_type": "code",
   "execution_count": 8,
   "metadata": {},
   "outputs": [],
   "source": [
    "def get_sameday(x):\n",
    "    if x.isnull()['IOD Report Date']:\n",
    "        return \"Pending\"\n",
    "    if x['IOD Report Date'].day - x['Delivery Date'].day == 0:\n",
    "        return \"Sameday\"\n",
    "    else:\n",
    "        return \"Overdue\"\n",
    "\n",
    "def get_Times(x):\n",
    "    if x.isnull()['Delivery Date']:\n",
    "        return \"Pending\"\n",
    "    if x['Delivery Date'].hour >= 17:\n",
    "        return \"After Hour\"\n",
    "    else:\n",
    "        return \"Business Hour\"\n"
   ]
  },
  {
   "cell_type": "code",
   "execution_count": 9,
   "metadata": {},
   "outputs": [],
   "source": [
    "df['Sameday'] = df.apply(lambda x : get_sameday(x), axis=1)\n",
    "df['WeekNum'] = df.apply(lambda x : str(x['Delivery Date'].week) if x['Delivery Date'] is not pd.NaT else \"Pending\", axis=1)\n",
    "df['Weekend'] = df.apply(lambda x : \"weekday\" if x['Delivery Date'].weekday() <= 4 else \"weekend\", axis=1)\n",
    "df['Delivery Time'] = df.apply(lambda x : x['Delivery Date'].strftime('%H:%M') if x['Delivery Date'] is not pd.NaT else \"Pending\", axis=1)\n",
    "df['Times'] = df.apply(lambda x : get_Times(x), axis=1)\n",
    "df['Pending'] = df.apply(lambda x : \"Pending\" if x['Delivery Date'] is pd.NaT else \"Complete\", axis=1)"
   ]
  },
  {
   "cell_type": "code",
   "execution_count": 10,
   "metadata": {},
   "outputs": [],
   "source": [
    "## clean data for all cariers\n",
    "df = df[df['Pending'] == 'Complete'].reset_index(drop=True)"
   ]
  },
  {
   "cell_type": "code",
   "execution_count": 11,
   "metadata": {},
   "outputs": [],
   "source": [
    "def get_pivot_tbale(df):\n",
    "    func = lambda x: 100*x.count()/df.shape[0]\n",
    "    daily_report = pd.pivot_table(df,index=[\"Carrier Code\",\"Weekend\"],\n",
    "                                  columns=\"Sameday\",values=[\"Load ID\"],\n",
    "                                  aggfunc={\n",
    "                                      \"Load ID\":\"count\",\n",
    "                                  },\n",
    "                                  fill_value=0,margins = True)\n",
    "    daily_report = daily_report.iloc[:, :-1]\n",
    "    daily_report.columns.set_levels(['# of Loads'],level = 0,inplace=True)\n",
    "\n",
    "    daily_report1 = pd.pivot_table(df,index=[\"Carrier Code\",\"Weekend\"],\n",
    "                                  columns=\"Sameday\",values=[\"Load ID\"],\n",
    "                                  aggfunc={\n",
    "                                      \"Load ID\" :func,\n",
    "                                  },\n",
    "                                  fill_value=0,margins = True)\n",
    "    daily_report1 = daily_report1.iloc[:, :-1]\n",
    "    daily_report1.columns.set_levels(['% of Loads'],level = 0,inplace=True)\n",
    "    daily_report_a = pd.concat([daily_report,daily_report1],axis = 1)\n",
    "\n",
    "\n",
    "    daily_report = pd.pivot_table(df,index=[\"Carrier Code\",\"Sameday\"],\n",
    "                                  columns=[\"Weekend\",\"Times\"],values=[\"Load ID\"],\n",
    "                                  aggfunc={\n",
    "                                      \"Load ID\":\"count\",\n",
    "                                  },\n",
    "                                  fill_value=0, margins = True)\n",
    "    daily_report_b = daily_report.iloc[:, :-1]\n",
    "    return daily_report_a, daily_report_b"
   ]
  },
  {
   "cell_type": "code",
   "execution_count": null,
   "metadata": {},
   "outputs": [],
   "source": [
    "\n",
    "\n"
   ]
  },
  {
   "cell_type": "code",
   "execution_count": 12,
   "metadata": {},
   "outputs": [
    {
     "name": "stdout",
     "output_type": "stream",
     "text": [
      "Working on AVRT !!!!!\n"
     ]
    },
    {
     "name": "stderr",
     "output_type": "stream",
     "text": [
      "C:\\Users\\marco.wang\\Miniconda3\\envs\\pantos\\lib\\site-packages\\ipykernel_launcher.py:23: UserWarning: Boolean Series key will be reindexed to match DataFrame index.\n"
     ]
    },
    {
     "name": "stdout",
     "output_type": "stream",
     "text": [
      "Working on BTVP !!!!!\n",
      "Working on RDWY !!!!!\n",
      "Working on TQLI_FW !!!!!\n",
      "Working on TFXH !!!!!\n",
      "Working on HMES !!!!!\n",
      "Working on RETL !!!!!\n",
      "Working on HRCF !!!!!\n",
      "Working on UTP2 !!!!!\n",
      "Working on NFIL !!!!!\n",
      "Working on AFXN !!!!!\n",
      "Working on AFNW !!!!!\n",
      "Working on ISCO !!!!!\n",
      "Working on CVYI !!!!!\n",
      "Working on PGAA !!!!!\n",
      "Working on AERG !!!!!\n",
      "Working on HSXF !!!!!\n",
      "Working on CGFR !!!!!\n",
      "Working on DSRE !!!!!\n"
     ]
    }
   ],
   "source": [
    "# Create a Pandas Excel writer using XlsxWriter as the engine.\n",
    "\n",
    "weekstamp = str(datetime.now().isocalendar()[1])\n",
    "date_path = os.path.join('weekly_report',weekstamp)\n",
    "ensure_dir(date_path)\n",
    "\n",
    "writer = pd.ExcelWriter(os.path.join(date_path,'weekly_performance_to_carriers.xlsx'), engine='xlsxwriter')\n",
    "workbook=writer.book\n",
    "# Write each dataframe to a different worksheet. you could write different string like above if you want\n",
    "\n",
    "for carrier_code in SANGYEOP_CARRIER_CODE:\n",
    "    df_ONE_CARRIERS = df[df['Carrier Code'] == carrier_code]\n",
    "    if df_ONE_CARRIERS.shape[0] == 0:\n",
    "        continue\n",
    "    print(f\"Working on {carrier_code} !!!!!\")\n",
    "    daily_report_a, daily_report_b = get_pivot_tbale(df_ONE_CARRIERS)\n",
    "    worksheet=workbook.add_worksheet(carrier_code)\n",
    "    writer.sheets[carrier_code] = worksheet\n",
    "    daily_report_a.to_excel(writer,sheet_name=carrier_code,startrow=1 , startcol=0)\n",
    "    worksheet.write_string(daily_report_a.shape[0] + 8, 0, \"total\")\n",
    "    daily_report_b.to_excel(writer,sheet_name=carrier_code,startrow=daily_report_a.shape[0] + 5, startcol=0)\n",
    "    worksheet.write_string(daily_report_a.shape[0] + daily_report_b.shape[0] + 8, 0, \"total\")\n",
    "    df[df ['Carrier Code'] == carrier_code][df ['Sameday'] == \"Overdue\"].to_excel(writer,sheet_name=carrier_code,startrow=daily_report_a.shape[0] + daily_report_b.shape[0] + 12, startcol=0,index= False)\n",
    "\n",
    "writer.save()"
   ]
  },
  {
   "cell_type": "code",
   "execution_count": null,
   "metadata": {},
   "outputs": [],
   "source": []
  },
  {
   "cell_type": "code",
   "execution_count": null,
   "metadata": {},
   "outputs": [],
   "source": []
  },
  {
   "cell_type": "code",
   "execution_count": null,
   "metadata": {},
   "outputs": [],
   "source": []
  }
 ],
 "metadata": {
  "kernelspec": {
   "display_name": "Python 3",
   "language": "python",
   "name": "python3"
  },
  "language_info": {
   "codemirror_mode": {
    "name": "ipython",
    "version": 3
   },
   "file_extension": ".py",
   "mimetype": "text/x-python",
   "name": "python",
   "nbconvert_exporter": "python",
   "pygments_lexer": "ipython3",
   "version": "3.6.10"
  }
 },
 "nbformat": 4,
 "nbformat_minor": 4
}
