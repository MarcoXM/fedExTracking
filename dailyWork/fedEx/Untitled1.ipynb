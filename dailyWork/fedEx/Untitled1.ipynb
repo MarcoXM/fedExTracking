{
 "cells": [
  {
   "cell_type": "code",
   "execution_count": 1,
   "metadata": {},
   "outputs": [],
   "source": [
    "import pandas as pd\n",
    "from config import chromeSetup,get_selected_cols_df,ensure_dir,get_Drivers,encode_search_word,enter_sys_value,update_iod_tms_with_now,transform\n",
    "import warnings\n",
    "import shutil\n",
    "from selenium.webdriver.support.ui import WebDriverWait\n",
    "from selenium.webdriver.common.by import By\n",
    "from selenium.common.exceptions import ElementNotVisibleException, ElementNotSelectableException\n",
    "import selenium.webdriver.support.expected_conditions as EC\n",
    "import time \n",
    "from datetime import datetime\n",
    "from glob import glob\n",
    "from tqdm.notebook import tqdm as tqdm_notebook\n",
    "import json\n",
    "import os\n",
    "import requests\n",
    "from dateutil.relativedelta import relativedelta, FR,TH\n",
    "from selenium.webdriver.support.ui import Select\n",
    "from collections import ChainMap\n",
    "from selenium import webdriver\n",
    "import numpy as np"
   ]
  },
  {
   "cell_type": "code",
   "execution_count": 2,
   "metadata": {},
   "outputs": [
    {
     "data": {
      "text/plain": [
       "'2020-09-16'"
      ]
     },
     "execution_count": 2,
     "metadata": {},
     "output_type": "execute_result"
    }
   ],
   "source": [
    "timestamp = str(datetime.now())        \n",
    "today_date = timestamp[:10]\n",
    "log_name = os.path.join(today_date,\"samedate_log.csv\")\n",
    "today_date"
   ]
  },
  {
   "cell_type": "code",
   "execution_count": 3,
   "metadata": {},
   "outputs": [],
   "source": [
    "### Need changed\n",
    "\n",
    "json_path = \".\\\\config.json\"\n",
    "webdriver_path = \"C:\\\\Users\\\\marco.wang\\\\Downloads\\\\chromedriver_win32\\\\chromedriver\""
   ]
  },
  {
   "cell_type": "code",
   "execution_count": 4,
   "metadata": {},
   "outputs": [
    {
     "name": "stdout",
     "output_type": "stream",
     "text": [
      "get browsers!!\n",
      "log in !!\n"
     ]
    }
   ],
   "source": [
    "options = chromeSetup()\n",
    "\n",
    "with open(json_path) as f:\n",
    "    data = json.load(f)\n",
    "\n",
    "browers = webdriver.Chrome(webdriver_path,options=options)\n",
    "\n",
    "print(\"get browsers!!\")\n",
    "log_in_url = 'http://tms.us.lge.com/tm/framework/Frame.jsp'\n",
    "browers.get(log_in_url)\n",
    "time.sleep(3)\n",
    "browers.switch_to.frame('i2ui_shell_content')\n",
    "time.sleep(3)\n",
    "browers.switch_to.frame('resultFrame')\n",
    "\n",
    "\n",
    "user = browers.find_element_by_name(\"loginUser\")\n",
    "user.send_keys(data['user'])\n",
    "password = browers.find_element_by_name(\"dspLoginPassword\")\n",
    "password.send_keys(data['password'])\n",
    "print(\"log in !!\")\n",
    "\n",
    "button = browers.find_element_by_id(\"buttonEmphasized\")\n",
    "button.click()\n",
    "\n",
    "\n",
    "time.sleep(3)\n",
    "browers.switch_to.default_content()\n",
    "browers.switch_to.frame('i2ui_shell_content')\n",
    "time.sleep(3)\n",
    "browers.switch_to.frame('nav')\n",
    "\n"
   ]
  },
  {
   "cell_type": "code",
   "execution_count": 5,
   "metadata": {},
   "outputs": [],
   "source": [
    "browers.switch_to.default_content()\n",
    "browers.switch_to.frame('i2ui_shell_content')\n",
    "time.sleep(3)\n",
    "browers.switch_to.frame('nav')\n",
    "IOD = browers.find_element_by_xpath(\"//*[@id='TREECELLIMAGE_navigation_navigation_3']\")\n",
    "IOD.click()\n",
    "time.sleep(3)"
   ]
  },
  {
   "cell_type": "code",
   "execution_count": 6,
   "metadata": {},
   "outputs": [],
   "source": [
    "download = browers.find_element_by_xpath(\"//*[@id='TREECELL_navigation_3_7']/a[2]\")\n",
    "download.click()\n",
    "time.sleep(8)\n",
    "\n"
   ]
  },
  {
   "cell_type": "code",
   "execution_count": null,
   "metadata": {},
   "outputs": [],
   "source": []
  }
 ],
 "metadata": {
  "kernelspec": {
   "display_name": "Python 3",
   "language": "python",
   "name": "python3"
  },
  "language_info": {
   "codemirror_mode": {
    "name": "ipython",
    "version": 3
   },
   "file_extension": ".py",
   "mimetype": "text/x-python",
   "name": "python",
   "nbconvert_exporter": "python",
   "pygments_lexer": "ipython3",
   "version": "3.6.10"
  }
 },
 "nbformat": 4,
 "nbformat_minor": 4
}
