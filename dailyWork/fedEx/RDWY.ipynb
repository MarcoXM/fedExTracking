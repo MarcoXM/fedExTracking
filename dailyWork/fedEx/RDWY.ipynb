{
 "cells": [
  {
   "cell_type": "code",
   "execution_count": 1,
   "metadata": {},
   "outputs": [],
   "source": [
    "import sys\n",
    "sys.path.append('../')\n",
    "from bs4 import BeautifulSoup\n",
    "import requests\n",
    "from selenium import webdriver\n",
    "import json\n",
    "import urllib\n",
    "import time \n",
    "import os\n",
    "import pandas as pd\n",
    "from selenium.webdriver.chrome.options import Options\n",
    "from glob import glob\n",
    "from collections import ChainMap\n",
    "from tqdm.notebook import tqdm as tqdm_notebook\n",
    "from datetime import datetime \n",
    "from config import chromeSetup,get_selected_cols_df,ensure_dir,get_Drivers,encode_search_word,enter_sys_value,update_iod_tms_with_now,transform"
   ]
  },
  {
   "cell_type": "code",
   "execution_count": 2,
   "metadata": {},
   "outputs": [
    {
     "data": {
      "text/plain": [
       "['Sales',\n",
       " 'Load ID',\n",
       " 'Stop Seq',\n",
       " 'Carrier Code',\n",
       " 'Carrier Name',\n",
       " 'Service Type',\n",
       " 'Alert Type',\n",
       " 'Ship Date',\n",
       " 'ETA',\n",
       " 'From Address',\n",
       " 'To Address',\n",
       " 'Customer Name',\n",
       " 'GERP Order No',\n",
       " 'Pick Order No',\n",
       " 'Pro No']"
      ]
     },
     "execution_count": 2,
     "metadata": {},
     "output_type": "execute_result"
    }
   ],
   "source": [
    "\n",
    "from config import Marco\n",
    "\n",
    "marco = Marco()\n",
    "marco.colsSend2Carrier"
   ]
  },
  {
   "cell_type": "code",
   "execution_count": 3,
   "metadata": {},
   "outputs": [],
   "source": [
    "\n",
    "\n",
    "\n",
    "\n",
    "CARRIER_CODE = ['RDWY_CRA',\n",
    "                 'RDWY_FON',\n",
    "                 'RDWY_FTW',\n",
    "                 'RDWY_POR',\n",
    "                 'RDWY_ROM',\n",
    "                'RDWY'\n",
    "               ]\n",
    "FILE_PATH = glob(\".\\data\\*.csv\")[-1]\n",
    "df_origin = pd.read_csv(FILE_PATH)\n",
    "df = df_origin[df_origin['Carrier Code'].isin(CARRIER_CODE)]\n",
    "\n",
    "\n",
    "\n",
    "from selenium import webdriver\n",
    "import time \n",
    "\n",
    "chrome_options = Options()\n",
    "chrome_options.add_argument(\"--headless\")\n",
    "browers = webdriver.Chrome(\"C:\\\\Users\\\\marco.wang\\\\Downloads\\\\chromedriver_win32\\\\chromedriver\",options=chrome_options)\n",
    " \n",
    "    \n",
    "def check(load):\n",
    "    try:\n",
    "        int(load)\n",
    "        return True\n",
    "    except:\n",
    "        return False\n",
    "\n",
    "def clean(text):\n",
    "    return \"\".join([ i for i in text if i.isdigit() or i == \"X\"])\n",
    "\n",
    "result = []"
   ]
  },
  {
   "cell_type": "code",
   "execution_count": 4,
   "metadata": {},
   "outputs": [
    {
     "data": {
      "application/vnd.jupyter.widget-view+json": {
       "model_id": "8af78ea9e2fd4bc6b1041abda365c3a4",
       "version_major": 2,
       "version_minor": 0
      },
      "text/plain": [
       "HBox(children=(FloatProgress(value=0.0, max=154.0), HTML(value='')))"
      ]
     },
     "metadata": {},
     "output_type": "display_data"
    },
    {
     "name": "stdout",
     "output_type": "stream",
     "text": [
      "\n"
     ]
    }
   ],
   "source": [
    "\n",
    "loads = df[\"Pro No\"].to_list()\n",
    "\n",
    "for load in tqdm_notebook(loads):\n",
    "\n",
    "    try:\n",
    "        url = f'https://my.yrc.com/tools/track/shipments?referenceNumber={load}&referenceNumberType=PRO&time={int(time.mktime(datetime.now().timetuple()))}'\n",
    "        browers.get(url)\n",
    "        time.sleep(2)\n",
    "        t = browers.find_elements_by_class_name(\"panel-body\")\n",
    "\n",
    "        if len(t) > 1:\n",
    "            d = t[1].text.split(\"\\n\")\n",
    "            data = {}\n",
    "            for k in range(0,len(d),2):\n",
    "                if k == len(d): continue\n",
    "                data[d[k]] = d[k+1]\n",
    "\n",
    "            data['YRC Freight PRO #:'] = clean(data['YRC Freight PRO #:'] )\n",
    "            result.append({\n",
    "                data['YRC Freight PRO #:']:data \n",
    "            })\n",
    "    except:\n",
    "        print(load)\n"
   ]
  },
  {
   "cell_type": "code",
   "execution_count": 11,
   "metadata": {},
   "outputs": [
    {
     "ename": "TypeError",
     "evalue": "string indices must be integers",
     "output_type": "error",
     "traceback": [
      "\u001b[1;31m---------------------------------------------------------------------------\u001b[0m",
      "\u001b[1;31mTypeError\u001b[0m                                 Traceback (most recent call last)",
      "\u001b[1;32m<ipython-input-11-72a30adfec2e>\u001b[0m in \u001b[0;36m<module>\u001b[1;34m\u001b[0m\n\u001b[1;32m----> 1\u001b[1;33m \u001b[0mresult\u001b[0m \u001b[1;33m=\u001b[0m \u001b[0mdict\u001b[0m\u001b[1;33m(\u001b[0m\u001b[0mChainMap\u001b[0m\u001b[1;33m(\u001b[0m\u001b[1;33m*\u001b[0m\u001b[0mresult\u001b[0m\u001b[1;33m)\u001b[0m\u001b[1;33m)\u001b[0m\u001b[1;33m\u001b[0m\u001b[1;33m\u001b[0m\u001b[0m\n\u001b[0m\u001b[0;32m      2\u001b[0m \u001b[0mprint\u001b[0m\u001b[1;33m(\u001b[0m\u001b[0mlen\u001b[0m\u001b[1;33m(\u001b[0m\u001b[0mresult\u001b[0m\u001b[1;33m)\u001b[0m\u001b[1;33m)\u001b[0m\u001b[1;33m\u001b[0m\u001b[1;33m\u001b[0m\u001b[0m\n\u001b[0;32m      3\u001b[0m \u001b[1;33m\u001b[0m\u001b[0m\n\u001b[0;32m      4\u001b[0m \u001b[0mtimestamp\u001b[0m \u001b[1;33m=\u001b[0m \u001b[0mstr\u001b[0m\u001b[1;33m(\u001b[0m\u001b[0mdatetime\u001b[0m\u001b[1;33m.\u001b[0m\u001b[0mnow\u001b[0m\u001b[1;33m(\u001b[0m\u001b[1;33m)\u001b[0m\u001b[1;33m)\u001b[0m\u001b[1;33m\u001b[0m\u001b[1;33m\u001b[0m\u001b[0m\n\u001b[0;32m      5\u001b[0m \u001b[1;33m\u001b[0m\u001b[0m\n",
      "\u001b[1;32m~\\Miniconda3\\envs\\pantos\\lib\\collections\\__init__.py\u001b[0m in \u001b[0;36m__getitem__\u001b[1;34m(self, key)\u001b[0m\n\u001b[0;32m    878\u001b[0m         \u001b[1;32mfor\u001b[0m \u001b[0mmapping\u001b[0m \u001b[1;32min\u001b[0m \u001b[0mself\u001b[0m\u001b[1;33m.\u001b[0m\u001b[0mmaps\u001b[0m\u001b[1;33m:\u001b[0m\u001b[1;33m\u001b[0m\u001b[1;33m\u001b[0m\u001b[0m\n\u001b[0;32m    879\u001b[0m             \u001b[1;32mtry\u001b[0m\u001b[1;33m:\u001b[0m\u001b[1;33m\u001b[0m\u001b[1;33m\u001b[0m\u001b[0m\n\u001b[1;32m--> 880\u001b[1;33m                 \u001b[1;32mreturn\u001b[0m \u001b[0mmapping\u001b[0m\u001b[1;33m[\u001b[0m\u001b[0mkey\u001b[0m\u001b[1;33m]\u001b[0m             \u001b[1;31m# can't use 'key in mapping' with defaultdict\u001b[0m\u001b[1;33m\u001b[0m\u001b[1;33m\u001b[0m\u001b[0m\n\u001b[0m\u001b[0;32m    881\u001b[0m             \u001b[1;32mexcept\u001b[0m \u001b[0mKeyError\u001b[0m\u001b[1;33m:\u001b[0m\u001b[1;33m\u001b[0m\u001b[1;33m\u001b[0m\u001b[0m\n\u001b[0;32m    882\u001b[0m                 \u001b[1;32mpass\u001b[0m\u001b[1;33m\u001b[0m\u001b[1;33m\u001b[0m\u001b[0m\n",
      "\u001b[1;31mTypeError\u001b[0m: string indices must be integers"
     ]
    }
   ],
   "source": [
    "result = dict(ChainMap(*result))\n",
    "print(len(result))\n",
    "\n",
    "timestamp = str(datetime.now())  \n",
    "\n",
    "df = df[marco.colsSend2Carrier]\n",
    "\n",
    "today_date = timestamp[:10]\n",
    "timestamp = \"\".join([d for d  in timestamp if d.isdigit()])\n",
    "ensure_dir(os.path.join(\"table_result\",today_date))\n",
    "df['Status'] = df['Pro No'].apply(lambda x : result[x]['Status:'] if result.get(x) and result.get(x).get(\"Status:\")  else \"null\")\n",
    "df['Status Updated:'] = df['Pro No'].apply(lambda x : result[x]['Status Updated:'] if result.get(x) and result.get(x).get('Status Updated:') else \"null\")\n",
    "df['Delivered Date'] = df['Pro No'].apply(lambda x : result[x]['Delivered Date'] if result.get(x) and result.get(x).get('Delivered Date') else \"null\" )\n",
    "df['Est. Delivery Date:'] = df['Pro No'].apply(lambda x : result[x]['Est. Delivery Date:'] if result.get(x) and result.get(x).get('Est. Delivery Date:') else \"null\" )\n",
    "df['Appointment Date:'] = df['Pro No'].apply(lambda x : result[x]['Appointment Date:'] if result.get(x) and result.get(x).get('Appointment Date:') else \"null\" )\n",
    "\n",
    "\n"
   ]
  },
  {
   "cell_type": "code",
   "execution_count": 13,
   "metadata": {},
   "outputs": [],
   "source": [
    "df.to_excel(os.path.join(\"table_result\",today_date,f\"report_RDWY_{timestamp[8:12]}.xlsx\"),index=False,engine='xlsxwriter')"
   ]
  },
  {
   "cell_type": "code",
   "execution_count": null,
   "metadata": {},
   "outputs": [],
   "source": []
  },
  {
   "cell_type": "code",
   "execution_count": null,
   "metadata": {},
   "outputs": [],
   "source": []
  },
  {
   "cell_type": "code",
   "execution_count": null,
   "metadata": {},
   "outputs": [],
   "source": []
  },
  {
   "cell_type": "code",
   "execution_count": null,
   "metadata": {},
   "outputs": [],
   "source": []
  }
 ],
 "metadata": {
  "kernelspec": {
   "display_name": "Python 3",
   "language": "python",
   "name": "python3"
  },
  "language_info": {
   "codemirror_mode": {
    "name": "ipython",
    "version": 3
   },
   "file_extension": ".py",
   "mimetype": "text/x-python",
   "name": "python",
   "nbconvert_exporter": "python",
   "pygments_lexer": "ipython3",
   "version": "3.6.10"
  }
 },
 "nbformat": 4,
 "nbformat_minor": 4
}
