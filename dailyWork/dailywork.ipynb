{
 "cells": [
  {
   "cell_type": "code",
   "execution_count": 36,
   "metadata": {},
   "outputs": [
    {
     "name": "stdout",
     "output_type": "stream",
     "text": [
      "The autoreload extension is already loaded. To reload it, use:\n",
      "  %reload_ext autoreload\n"
     ]
    }
   ],
   "source": [
    "%load_ext autoreload\n",
    "from config import Marco,content_generator\n",
    "import pandas as pd\n",
    "import os \n",
    "from utils import get_selected_cols_df,get_selected_values_df,joinStr,ensure_dir,get_daily_report_df,getDate_in_month,get_selected_values_over_df,greeting,get_night_data\n",
    "from datetime import datetime \n",
    "from glob import glob\n",
    "import warnings\n",
    "import math\n",
    "import numpy as np\n",
    "warnings.filterwarnings(\"ignore\")\n",
    "\n"
   ]
  },
  {
   "cell_type": "code",
   "execution_count": 37,
   "metadata": {},
   "outputs": [
    {
     "name": "stdout",
     "output_type": "stream",
     "text": [
      ".\\daily_route_data\\IOD_MONITORING_DETAIL_US_2021-06-07 17-22.csv\n",
      "False\n"
     ]
    },
    {
     "data": {
      "text/plain": [
       "'2021-06-07'"
      ]
     },
     "execution_count": 37,
     "metadata": {},
     "output_type": "execute_result"
    }
   ],
   "source": [
    "data_path = 'daily_route_data'\n",
    "##########\n",
    "AFTERHOUR = False\n",
    "contact_list_path = \".\\\\night_shift\\\\*.xlsx\"\n",
    "main_data_path =sorted(glob(f\".\\\\{data_path}\\\\*.csv\"))[-1]\n",
    "\n",
    "##########\n",
    "\n",
    "df = pd.read_csv(main_data_path)\n",
    "print(main_data_path)\n",
    "print(AFTERHOUR)\n",
    "str(datetime.now())[0:10]"
   ]
  },
  {
   "cell_type": "code",
   "execution_count": 38,
   "metadata": {},
   "outputs": [
    {
     "data": {
      "text/plain": [
       "'.\\\\daily_route_data\\\\IOD_MONITORING_DETAIL_US_2021-06-07 17-22.csv'"
      ]
     },
     "execution_count": 38,
     "metadata": {},
     "output_type": "execute_result"
    }
   ],
   "source": [
    "main_data_path"
   ]
  },
  {
   "cell_type": "markdown",
   "metadata": {},
   "source": [
    "## Today's date"
   ]
  },
  {
   "cell_type": "code",
   "execution_count": 39,
   "metadata": {},
   "outputs": [],
   "source": [
    "class DailySheet:\n",
    "    def __init__(self, df, user, need_over_due = False):\n",
    "        self.mode = ['end_of_month','regular'][ getDate_in_month() <= 22]\n",
    "        self.alertType = user.alertType\n",
    "        self.need_over_due = need_over_due\n",
    "        self.df = df\n",
    "        self.user = user\n",
    "        self.week_day = datetime.now().weekday()\n",
    "      \n",
    "    def filter_by_carriers(self,df):\n",
    "        return get_selected_values_df(df,self.user.carriers_code,col_name = 'Carrier Code')\n",
    "    \n",
    "    \n",
    "    def filter_by_allert(self,df):\n",
    "        self.all_allert_df = get_selected_values_df(df,self.alertType, col_name = 'Alert Type')\n",
    "        if self.mode == 'regular':\n",
    "            return get_selected_values_df(df,self.alertType[:5], col_name = 'Alert Type')\n",
    "        elif self.mode == 'end_of_month':\n",
    "            return get_selected_values_df(df,self.alertType, col_name = 'Alert Type')\n",
    "    \n",
    "    \n",
    "    def get_each_carriers_iod_email_content(self , cols_send2carrier):\n",
    "        user_carrier_df = self.filter_by_carriers(self.df)\n",
    "        past_alert_user_carrier_df = self.filter_by_allert(user_carrier_df)\n",
    "        \n",
    "        ## dont show too much information to the carriers\n",
    "        self.cleaned_df = past_alert_user_carrier_df\n",
    "        return get_selected_cols_df(past_alert_user_carrier_df, cols_send2carrier)\n",
    "    \n",
    "    \n",
    "    def get_high_value_loads(self):\n",
    "        high_values_df = get_selected_values_over_df(self.cleaned_df, 50000.00, col_name = 'Sales')\n",
    "        return high_values_df        \n",
    "    \n",
    "    \n",
    "    def get_overdue(self,df):\n",
    "        return get_selected_values_df(self.filter_by_carriers(df),['Overdue 4', 'Overdue 3', 'Overdue 2','Overdue 1'],col_name = 'Alert Type')\n",
    "    \n",
    "\n",
    "    def save_daily_content2carriers(self, df, date_path):\n",
    "        unique_files = sorted(df['Carrier Code'].unique())\n",
    "        timestamp = str(datetime.now())[0:10]\n",
    "        date_path = os.path.join(joinStr('Carrier Code'),str(datetime.now())[0:10])\n",
    "        ensure_dir(date_path)\n",
    "        \n",
    "        ## unique identifier\n",
    "        order = glob(f\".\\{data_path}\\*.csv\")[-1][-12:-4]\n",
    "        clock = \"\".join([d for d  in str(datetime.now())[11:16] if d.isdigit()])\n",
    "        final_folder = os.path.join(date_path, clock + \"_\" + str(order) )\n",
    "        ensure_dir(final_folder)\n",
    "        \n",
    "            \n",
    "        ## One excel would be convienience    \n",
    "        writer = pd.ExcelWriter(os.path.join(final_folder,'daily_to_carriers.xlsx'), engine='xlsxwriter')\n",
    "        workbook=writer.book          \n",
    "        for carrier_code in unique_files:\n",
    "            emails = Marco.carrier_email.get(carrier_code)\n",
    "            df_ONE_CARRIERS = df[df['Carrier Code'] == carrier_code]\n",
    "            df_ONE_CARRIERS['Ship Date'] = pd.to_datetime(df_ONE_CARRIERS['Ship Date'])\n",
    "            df_ONE_CARRIERS[\"Aging\"] = df_ONE_CARRIERS['Ship Date'].apply(lambda x : (datetime.today() - x)//np.timedelta64(1,'D'))\n",
    "            df_ONE_CARRIERS[\"High Value\"] = df_ONE_CARRIERS['Sales'].apply( lambda x : f\"HIGH VALUES over $ {int(math.floor(x//10000) * 10000)}, Prioritize!\" if x > 20000 else \"\")\n",
    "            df_ONE_CARRIERS = df_ONE_CARRIERS[list(df_ONE_CARRIERS.columns)[-2:] + list(df_ONE_CARRIERS.columns)[:-2]]\n",
    "            df_ONE_CARRIERS.loc[0,'E-mail to'] = emails\n",
    "            df_ONE_CARRIERS.loc[0,'Subject'] = f\"{carrier_code} Pending IOD {timestamp}\"\n",
    "            df_ONE_CARRIERS.loc[0,'Content'] = content_generator(carrier_code,df_ONE_CARRIERS)\n",
    "            df_ONE_CARRIERS.loc[0,'LTL'] = \"For all the LTL loads I sent, I have check online ,but unluckily there is no valid update. Please advise status ASAP \"\n",
    "            print(f\"Working on {carrier_code} !!!!!\")\n",
    "\n",
    "            worksheet=workbook.add_worksheet(carrier_code)\n",
    "            writer.sheets[carrier_code] = worksheet\n",
    "            if carrier_code in ['FXFE', 'FDEN']:\n",
    "                df_ONE_CARRIERS.sort_values(\"Aging\",ascending = False).to_excel(writer,sheet_name=carrier_code,startrow=1 , startcol=0,index = False)\n",
    "            else:\n",
    "                df_ONE_CARRIERS.sort_values(\"Alert Type\").to_excel(writer,sheet_name=carrier_code,startrow=1 , startcol=0,index = False)\n",
    "        writer.save()\n",
    "            \n",
    "        if self.week_day == 0 or self.need_over_due:\n",
    "            over_due_df = self.get_overdue(df)\n",
    "            over_due_df.to_excel(os.path.join(date_path,f\"Over_due_Marco_{timestamp}.xlsx\"),index = False,engine='xlsxwriter')\n",
    "            print(f\" Oh Monday overdue !! Please send to Jinwoo !!\")                                   \n",
    "                \n",
    "        ## all carriers \n",
    "\n",
    "        df.to_excel(os.path.join(final_folder,f\"all_{timestamp}.xlsx\"),index = False,engine='xlsxwriter')\n",
    "        print(f\" Finished ALL carriers content !!\")\n",
    "        \n",
    "        self.cleaned_df.to_excel(os.path.join(final_folder,f\"all_cols_{timestamp}.xlsx\"),index = False,engine='xlsxwriter')\n",
    "        print(f\" Finished ALL cols and carriers content !!\")\n",
    "        \n",
    "        if self.mode == 'end_of_month':\n",
    "            self.get_high_value_loads().to_excel(os.path.join(final_folder,f\"high_values_{timestamp}.xlsx\"),index = False,engine='xlsxwriter')\n",
    "            print(f\" Oh high values !! Finished high content !!\")\n",
    "#             \n",
    "def daily_route(df,Marco):\n",
    "    print(f\" Today is {str(datetime.now())[0:10]}\" + f\" {greeting()} !!!!! \")\n",
    "    pic= Marco()\n",
    "#     pic.carriers_code = l\n",
    "    if AFTERHOUR:\n",
    "        night_carriers_code, night_carrier_email = get_night_data(contact_list_path)\n",
    "        pic.carrier_email = night_carrier_email\n",
    "        pic.carriers_code = night_carriers_code\n",
    "#         pic.alertType = ['Overdue 4', 'Overdue 3','Overdue 1', 'Overdue 2', 'Today']\n",
    "\n",
    "    dailysheet = DailySheet(df,pic,need_over_due=True)\n",
    "    dailysheet.mode = 'end_of_month'\n",
    "    \n",
    "    ## prepare for the data to e-mail\n",
    "    dailysheet.save_daily_content2carriers(dailysheet.get_each_carriers_iod_email_content(pic.colsSend2Carrier),data_path)\n",
    "\n",
    "        "
   ]
  },
  {
   "cell_type": "code",
   "execution_count": 40,
   "metadata": {
    "scrolled": true
   },
   "outputs": [
    {
     "name": "stdout",
     "output_type": "stream",
     "text": [
      " Today is 2021-06-07 Afternoon !!!!! \n",
      "Working on AERG !!!!!\n",
      "Working on AMZX !!!!!\n",
      "Working on AVRT_ATL !!!!!\n",
      "Working on AVRT_FTW !!!!!\n",
      "Working on AVRT_ORL !!!!!\n",
      "Working on AVRT_ROM !!!!!\n",
      "Working on BTVP !!!!!\n",
      "Working on CNWY !!!!!\n",
      "Working on CVYI !!!!!\n",
      "Working on HJBI !!!!!\n",
      "Working on HMES !!!!!\n",
      "Working on HRCF !!!!!\n",
      "Working on HSXF !!!!!\n",
      "Working on PASC !!!!!\n",
      "Working on PGAA !!!!!\n",
      "Working on RDWY_CRA !!!!!\n",
      "Working on RDWY_FON !!!!!\n",
      "Working on RDWY_FTW !!!!!\n",
      "Working on RDWY_POR !!!!!\n",
      "Working on RDWY_ROM !!!!!\n",
      "Working on RETL !!!!!\n",
      "Working on TFFC !!!!!\n",
      "Working on TQLI_FW !!!!!\n",
      "Working on UTP2 !!!!!\n",
      "Working on WENP !!!!!\n",
      " Oh Monday overdue !! Please send to Jinwoo !!\n",
      " Finished ALL carriers content !!\n",
      " Finished ALL cols and carriers content !!\n",
      " Oh high values !! Finished high content !!\n"
     ]
    }
   ],
   "source": [
    "# Marco.\n",
    "daily_route(df,Marco)\n",
    "files = glob(f\".\\\\{data_path}\\\\*.csv\")"
   ]
  },
  {
   "cell_type": "code",
   "execution_count": 79,
   "metadata": {},
   "outputs": [
    {
     "data": {
      "text/html": [
       "<div>\n",
       "<style scoped>\n",
       "    .dataframe tbody tr th:only-of-type {\n",
       "        vertical-align: middle;\n",
       "    }\n",
       "\n",
       "    .dataframe tbody tr th {\n",
       "        vertical-align: top;\n",
       "    }\n",
       "\n",
       "    .dataframe thead th {\n",
       "        text-align: right;\n",
       "    }\n",
       "</style>\n",
       "<table border=\"1\" class=\"dataframe\">\n",
       "  <thead>\n",
       "    <tr style=\"text-align: right;\">\n",
       "      <th></th>\n",
       "      <th>Div</th>\n",
       "      <th>Load ID</th>\n",
       "      <th>Stop Seq</th>\n",
       "      <th>Carrier Code</th>\n",
       "      <th>Carrier Name</th>\n",
       "      <th>Service Type</th>\n",
       "      <th>Container Type</th>\n",
       "      <th>Customer PO</th>\n",
       "      <th>Alert Type</th>\n",
       "      <th>Sales</th>\n",
       "      <th>...</th>\n",
       "      <th>GERP Order No</th>\n",
       "      <th>Pick Order No</th>\n",
       "      <th>Pro No</th>\n",
       "      <th>From Address</th>\n",
       "      <th>To Address</th>\n",
       "      <th>Pick Appointment</th>\n",
       "      <th>Carrier Contact E-Mail</th>\n",
       "      <th>Carrier Contact Tel</th>\n",
       "      <th>Origin Location Type</th>\n",
       "      <th>Destination Location Type</th>\n",
       "    </tr>\n",
       "  </thead>\n",
       "  <tbody>\n",
       "  </tbody>\n",
       "</table>\n",
       "<p>0 rows × 56 columns</p>\n",
       "</div>"
      ],
      "text/plain": [
       "Empty DataFrame\n",
       "Columns: [Div, Load ID, Stop Seq, Carrier Code, Carrier Name, Service Type, Container Type, Customer PO, Alert Type, Sales, Ship Date, Required Delivery Date, Drop Appointment, IOD Report Date, Original ETA, ETA, ETA Type, Modified ETA, Modified ETA Reason, Modified ETA Remark, Delivery Date, Delivery Remark, Delivery Status, Tracking Date, Carrier Contact, Carrier Phone, Tracking Remark, Pick Up From Date, Pick Up To Date, Delivery From Date, Delivery To Date, Container No, Seal No, US CY In, US CY Out, US CY Out Expected Date, EID Date, Overdue Days, Quantity, Weight, Volumn, Load Cost, From Shipping Location Code, Fixed Itnr Distinct, Customer Code, Customer Name, GERP Order No, Pick Order No, Pro No, From Address, To Address, Pick Appointment, Carrier Contact E-Mail, Carrier Contact Tel, Origin Location Type, Destination Location Type]\n",
       "Index: []\n",
       "\n",
       "[0 rows x 56 columns]"
      ]
     },
     "execution_count": 79,
     "metadata": {},
     "output_type": "execute_result"
    }
   ],
   "source": [
    "\n",
    "sorted(df['Carrier Code'].unique())\n",
    "df[df['Carrier Code'] == \"GFAD\"]"
   ]
  },
  {
   "cell_type": "markdown",
   "metadata": {},
   "source": [
    "### This is for the warehouse get the BOL"
   ]
  },
  {
   "cell_type": "code",
   "execution_count": 41,
   "metadata": {},
   "outputs": [
    {
     "name": "stdout",
     "output_type": "stream",
     "text": [
      "get the data from tms for WAVE number and Purchase Number!!\n",
      "  Purchase Order No   Wave No Customer PO    Pro No   Load ID Carrier Code  \\\n",
      "0          pls_fill  pls_fill        3194  11727467  11727467         PGAA   \n",
      "\n",
      "  Service Type   Sales         Ship Date       Customer Name  \\\n",
      "0         AIR3  1213.8  05/13/2021 15:03  SNOWFLAKE GUAM CO.   \n",
      "\n",
      "                                          To Address  GERP Order No  \\\n",
      "0  349 E HARMON INDUSTRIAL PARK ROAD DFS STOCK TA...     1041897302   \n",
      "\n",
      "    Pick Order No  \n",
      "0  NJ221041900101  \n"
     ]
    }
   ],
   "source": [
    "loads_list = [\n",
    "# 11637175,\n",
    "# 11647290,\n",
    "# 11648850,\n",
    "# 11607952,\n",
    "# 11639250,\n",
    "# 11639806,\n",
    "# 11639841,\n",
    "11727467\n",
    "\n",
    "\n",
    "]  \n",
    "COLS = [\"Customer PO\",\"Pro No\",\"Load ID\",\"Carrier Code\",\"Service Type\",\"Sales\",\"Ship Date\",\"Customer Name\",\"To Address\",\"GERP Order No\",\"Pick Order No\"]\n",
    "\n",
    "\n",
    "def get_df_to_wh(df, loads_list = loads_list, cols = COLS):\n",
    "    to_warehouse_df = get_selected_values_df(df ,loads_list, col_name = 'Load ID')\n",
    "    res = to_warehouse_df[COLS]\n",
    "    res = res.drop_duplicates()\n",
    "    print(\"get the data from tms for WAVE number and Purchase Number!!\")\n",
    "    date_path = os.path.join(joinStr('Carrier Code'),str(datetime.now())[0:10])\n",
    "    res[\"Purchase Order No\"]=\"pls_fill\"\n",
    "    res[\"Wave No\"] = \"pls_fill\"\n",
    "    res = res[[\"Purchase Order No\"] + [\"Wave No\"] + COLS]\n",
    "    res.to_excel(os.path.join(date_path,\"BOL_NEED.xlsx\"),index = False)\n",
    "    print(res)\n",
    "    \n",
    "get_df_to_wh(df, loads_list,COLS)"
   ]
  },
  {
   "cell_type": "markdown",
   "metadata": {},
   "source": [
    "### This is for the aging\n"
   ]
  },
  {
   "cell_type": "code",
   "execution_count": null,
   "metadata": {},
   "outputs": [],
   "source": []
  },
  {
   "cell_type": "code",
   "execution_count": 34,
   "metadata": {},
   "outputs": [],
   "source": [
    "## get the lastest data and conbine it together!\n",
    "tm_path = glob(\".\\daily_report_data\\*.xls\")[-1]\n",
    "iod_path = glob(\".\\daily_report_data\\*.csv\")[-1]\n",
    "fedex_path = glob(f\"..\\\\fedEx\\\\{str(datetime.now())[0:10]}\\\\*.xlsx\")[-1]\n",
    "df_tm = pd.read_excel(tm_path)\n",
    "df_iod = pd.read_csv(iod_path)\n",
    "report_df = get_daily_report_df(df_iod,df_tm)\n",
    "\n",
    "\n"
   ]
  },
  {
   "cell_type": "code",
   "execution_count": 35,
   "metadata": {},
   "outputs": [],
   "source": [
    "df_iod_marco = get_selected_values_df(df_iod,Marco.carriers_code,'Carrier Code')"
   ]
  },
  {
   "cell_type": "code",
   "execution_count": 36,
   "metadata": {},
   "outputs": [
    {
     "name": "stdout",
     "output_type": "stream",
     "text": [
      "<class 'pandas.core.frame.DataFrame'>\n",
      "Int64Index: 1243 entries, 1 to 3601\n",
      "Data columns (total 56 columns):\n",
      " #   Column                       Non-Null Count  Dtype  \n",
      "---  ------                       --------------  -----  \n",
      " 0   Div                          1243 non-null   object \n",
      " 1   Load ID                      1243 non-null   int64  \n",
      " 2   Stop Seq                     1243 non-null   object \n",
      " 3   Carrier Code                 1243 non-null   object \n",
      " 4   Carrier Name                 1243 non-null   object \n",
      " 5   Service Type                 1243 non-null   object \n",
      " 6   Container Type               1243 non-null   object \n",
      " 7   Customer PO                  1243 non-null   object \n",
      " 8   Alert Type                   1243 non-null   object \n",
      " 9   Sales                        1243 non-null   float64\n",
      " 10  Ship Date                    1243 non-null   object \n",
      " 11  Required Delivery Date       1243 non-null   object \n",
      " 12  Drop Appointment             50 non-null     object \n",
      " 13  IOD Report Date              0 non-null      float64\n",
      " 14  Original ETA                 0 non-null      float64\n",
      " 15  ETA                          1243 non-null   object \n",
      " 16  ETA Type                     1243 non-null   object \n",
      " 17  Modified ETA                 109 non-null    object \n",
      " 18  Modified ETA Reason          0 non-null      float64\n",
      " 19  Modified ETA Remark          110 non-null    object \n",
      " 20  Delivery Date                0 non-null      float64\n",
      " 21  Delivery Remark              0 non-null      float64\n",
      " 22  Delivery Status              0 non-null      float64\n",
      " 23  Tracking Date                122 non-null    object \n",
      " 24  Carrier Contact              0 non-null      float64\n",
      " 25  Carrier Phone                0 non-null      float64\n",
      " 26  Tracking Remark              45 non-null     object \n",
      " 27  Pick Up From Date            1243 non-null   object \n",
      " 28  Pick Up To Date              1243 non-null   object \n",
      " 29  Delivery From Date           1243 non-null   object \n",
      " 30  Delivery To Date             1243 non-null   object \n",
      " 31  Container No                 1238 non-null   object \n",
      " 32  Seal No                      1138 non-null   object \n",
      " 33  US CY In                     0 non-null      float64\n",
      " 34  US CY Out                    0 non-null      float64\n",
      " 35  US CY Out Expected Date      0 non-null      float64\n",
      " 36  EID Date                     0 non-null      float64\n",
      " 37  Overdue Days                 1243 non-null   int64  \n",
      " 38  Quantity                     1243 non-null   int64  \n",
      " 39  Weight                       1243 non-null   float64\n",
      " 40  Volumn                       1243 non-null   float64\n",
      " 41  Load Cost                    1243 non-null   float64\n",
      " 42  From Shipping Location Code  1243 non-null   object \n",
      " 43  Fixed Itnr Distinct          1243 non-null   float64\n",
      " 44  Customer Code                1243 non-null   object \n",
      " 45  Customer Name                1243 non-null   object \n",
      " 46  GERP Order No                1243 non-null   int64  \n",
      " 47  Pick Order No                1243 non-null   object \n",
      " 48  Pro No                       1243 non-null   object \n",
      " 49  From Address                 1243 non-null   object \n",
      " 50  To Address                   1243 non-null   object \n",
      " 51  Pick Appointment             0 non-null      float64\n",
      " 52  Carrier Contact E-Mail       82 non-null     object \n",
      " 53  Carrier Contact Tel          33 non-null     object \n",
      " 54  Origin Location Type         1243 non-null   object \n",
      " 55  Destination Location Type    1243 non-null   object \n",
      "dtypes: float64(18), int64(4), object(34)\n",
      "memory usage: 553.5+ KB\n"
     ]
    }
   ],
   "source": [
    "df_iod_marco.info()"
   ]
  },
  {
   "cell_type": "code",
   "execution_count": 37,
   "metadata": {},
   "outputs": [],
   "source": [
    "cates = [\"Service Type\",\"Stop Seq\",\"Carrier Code\"]\n",
    "for col in cates:\n",
    "    df_iod_marco[col]= df_iod_marco[col].astype(\"category\")"
   ]
  },
  {
   "cell_type": "code",
   "execution_count": 38,
   "metadata": {},
   "outputs": [
    {
     "name": "stdout",
     "output_type": "stream",
     "text": [
      "<class 'pandas.core.frame.DataFrame'>\n",
      "Int64Index: 1243 entries, 1 to 3601\n",
      "Data columns (total 56 columns):\n",
      " #   Column                       Non-Null Count  Dtype   \n",
      "---  ------                       --------------  -----   \n",
      " 0   Div                          1243 non-null   object  \n",
      " 1   Load ID                      1243 non-null   int64   \n",
      " 2   Stop Seq                     1243 non-null   category\n",
      " 3   Carrier Code                 1243 non-null   category\n",
      " 4   Carrier Name                 1243 non-null   object  \n",
      " 5   Service Type                 1243 non-null   category\n",
      " 6   Container Type               1243 non-null   object  \n",
      " 7   Customer PO                  1243 non-null   object  \n",
      " 8   Alert Type                   1243 non-null   object  \n",
      " 9   Sales                        1243 non-null   float64 \n",
      " 10  Ship Date                    1243 non-null   object  \n",
      " 11  Required Delivery Date       1243 non-null   object  \n",
      " 12  Drop Appointment             50 non-null     object  \n",
      " 13  IOD Report Date              0 non-null      float64 \n",
      " 14  Original ETA                 0 non-null      float64 \n",
      " 15  ETA                          1243 non-null   object  \n",
      " 16  ETA Type                     1243 non-null   object  \n",
      " 17  Modified ETA                 109 non-null    object  \n",
      " 18  Modified ETA Reason          0 non-null      float64 \n",
      " 19  Modified ETA Remark          110 non-null    object  \n",
      " 20  Delivery Date                0 non-null      float64 \n",
      " 21  Delivery Remark              0 non-null      float64 \n",
      " 22  Delivery Status              0 non-null      float64 \n",
      " 23  Tracking Date                122 non-null    object  \n",
      " 24  Carrier Contact              0 non-null      float64 \n",
      " 25  Carrier Phone                0 non-null      float64 \n",
      " 26  Tracking Remark              45 non-null     object  \n",
      " 27  Pick Up From Date            1243 non-null   object  \n",
      " 28  Pick Up To Date              1243 non-null   object  \n",
      " 29  Delivery From Date           1243 non-null   object  \n",
      " 30  Delivery To Date             1243 non-null   object  \n",
      " 31  Container No                 1238 non-null   object  \n",
      " 32  Seal No                      1138 non-null   object  \n",
      " 33  US CY In                     0 non-null      float64 \n",
      " 34  US CY Out                    0 non-null      float64 \n",
      " 35  US CY Out Expected Date      0 non-null      float64 \n",
      " 36  EID Date                     0 non-null      float64 \n",
      " 37  Overdue Days                 1243 non-null   int64   \n",
      " 38  Quantity                     1243 non-null   int64   \n",
      " 39  Weight                       1243 non-null   float64 \n",
      " 40  Volumn                       1243 non-null   float64 \n",
      " 41  Load Cost                    1243 non-null   float64 \n",
      " 42  From Shipping Location Code  1243 non-null   object  \n",
      " 43  Fixed Itnr Distinct          1243 non-null   float64 \n",
      " 44  Customer Code                1243 non-null   object  \n",
      " 45  Customer Name                1243 non-null   object  \n",
      " 46  GERP Order No                1243 non-null   int64   \n",
      " 47  Pick Order No                1243 non-null   object  \n",
      " 48  Pro No                       1243 non-null   object  \n",
      " 49  From Address                 1243 non-null   object  \n",
      " 50  To Address                   1243 non-null   object  \n",
      " 51  Pick Appointment             0 non-null      float64 \n",
      " 52  Carrier Contact E-Mail       82 non-null     object  \n",
      " 53  Carrier Contact Tel          33 non-null     object  \n",
      " 54  Origin Location Type         1243 non-null   object  \n",
      " 55  Destination Location Type    1243 non-null   object  \n",
      "dtypes: category(3), float64(18), int64(4), object(31)\n",
      "memory usage: 529.9+ KB\n"
     ]
    }
   ],
   "source": [
    "df_iod_marco.info()"
   ]
  },
  {
   "cell_type": "code",
   "execution_count": 39,
   "metadata": {},
   "outputs": [
    {
     "ename": "SyntaxError",
     "evalue": "invalid syntax (<ipython-input-39-5081f6475d0b>, line 5)",
     "output_type": "error",
     "traceback": [
      "\u001b[1;36m  File \u001b[1;32m\"<ipython-input-39-5081f6475d0b>\"\u001b[1;36m, line \u001b[1;32m5\u001b[0m\n\u001b[1;33m    daily_report.\u001b[0m\n\u001b[1;37m                 ^\u001b[0m\n\u001b[1;31mSyntaxError\u001b[0m\u001b[1;31m:\u001b[0m invalid syntax\n"
     ]
    }
   ],
   "source": [
    "daily_report = pd.pivot_table(df_iod_marco,index=[\"Service Type\",\"Carrier Code\"],\n",
    "                              columns=\"Stop Seq\",values=[\"Load ID\"],aggfunc='count',\n",
    "                              fill_value=0,margins=True)\n",
    "\n",
    "daily_report."
   ]
  },
  {
   "cell_type": "code",
   "execution_count": null,
   "metadata": {},
   "outputs": [],
   "source": []
  },
  {
   "cell_type": "code",
   "execution_count": null,
   "metadata": {},
   "outputs": [],
   "source": [
    "timestamp = str(datetime.now())[0:10]\n",
    "daily_report.to_csv(os.path.join(\"daily_report_ouput\",f\"{timestamp}_daily_report.csv\"))"
   ]
  },
  {
   "cell_type": "code",
   "execution_count": null,
   "metadata": {},
   "outputs": [],
   "source": [
    "def update_iod_tms_with_dateandcoment(browers,date = '01/01/2021 23:05',string = \"late ship confirmation \"):\n",
    "    i = 0 \n",
    "    while browers.find_element_by_id(f\"iodMonitoringDetailGrid_BODY_{i}_CHECKBOX\"):\n",
    "        checkButton = browers.find_element_by_id(f\"iodMonitoringDetailGrid_BODY_{i}_CHECKBOX\")\n",
    "        time.sleep(0.1)\n",
    "        checkButton.click()\n",
    "        time.sleep(0.2)\n",
    "        enter = browers.find_element_by_id(f'iodMonitoringDetailGrid_BODY_{i}_20_INPUT')\n",
    "        enter.click()\n",
    "        time.sleep(0.1)\n",
    "        enter.send_keys(date)\n",
    "        remark = browers.find_element_by_id(f'iodMonitoringDetailGrid_BODY_{i}_21_INPUT')\n",
    "        remark.send_keys(string + \"\" + datetime.now().strftime(\"%m/%d/%Y\") + \"Marco\")\n",
    "        i += 1\n",
    "        if i > 30:\n",
    "            browers.find_element_by_tag_name('body').send_keys(Keys.END)\n",
    "browers = driver\n",
    "time.sleep(390)\n",
    "update_iod_tms_with_dateandcoment(browers)\n",
    "\n",
    "\n",
    "def update_eta_tms_with_dateandcoment(browers,date = '02/01/2021 09:30',string = \"EOM FAILURE  \"):\n",
    "    i = 0 \n",
    "    while browers.find_element_by_id(f\"iodMonitoringDetailGrid_BODY_{i}_CHECKBOX\"):\n",
    "        checkButton = browers.find_element_by_id(f\"iodMonitoringDetailGrid_BODY_{i}_CHECKBOX\")\n",
    "        time.sleep(0.1)\n",
    "        checkButton.click()\n",
    "        time.sleep(0.2)\n",
    "        enter = browers.find_element_by_id(f'iodMonitoringDetailGrid_BODY_{i}_17_INPUT')\n",
    "        enter.click()\n",
    "        time.sleep(0.1)\n",
    "        enter.send_keys(date)\n",
    "        \n",
    "#         T = browers.find_element_by_id(f'iodMonitoringDetailGrid_BODY_{i}_18_INPUT')\n",
    "#         T.click()\n",
    "#         time.sleep(0.1)\n",
    "#         T.send_keys(\"Carrier\")\n",
    "        \n",
    "        remark = browers.find_element_by_id(f'iodMonitoringDetailGrid_BODY_{i}_19_INPUT')\n",
    "        remark.send_keys(string + \"\" + datetime.now().strftime(\"%m/%d/%Y\") + \"Marco\")\n",
    "        i += 1\n",
    "        if i > 30:\n",
    "            browers.find_element_by_tag_name('body').send_keys(Keys.END)\n",
    "browers = driver\n",
    "update_eta_tms_with_dateandcoment(browers)"
   ]
  },
  {
   "cell_type": "code",
   "execution_count": null,
   "metadata": {},
   "outputs": [],
   "source": []
  },
  {
   "cell_type": "code",
   "execution_count": 83,
   "metadata": {},
   "outputs": [
    {
     "name": "stdout",
     "output_type": "stream",
     "text": [
      "f\n",
      "handle\n"
     ]
    }
   ],
   "source": [
    "def gen():\n",
    "    \n",
    "    try :\n",
    "        yield 'value'\n",
    "    except ValueError:\n",
    "        yield \"handle\"\n",
    "        \n",
    "    finally:\n",
    "        print(\"f\")\n",
    "        \n",
    "x = gen()\n",
    "next(x)\n",
    "e = ValueError(\"some \")\n",
    "print(x.throw(e))"
   ]
  },
  {
   "cell_type": "code",
   "execution_count": 88,
   "metadata": {},
   "outputs": [
    {
     "name": "stdout",
     "output_type": "stream",
     "text": [
      "f\n"
     ]
    }
   ],
   "source": [
    "x.close()"
   ]
  },
  {
   "cell_type": "code",
   "execution_count": null,
   "metadata": {},
   "outputs": [],
   "source": []
  }
 ],
 "metadata": {
  "kernelspec": {
   "display_name": "Python 3",
   "language": "python",
   "name": "python3"
  },
  "language_info": {
   "codemirror_mode": {
    "name": "ipython",
    "version": 3
   },
   "file_extension": ".py",
   "mimetype": "text/x-python",
   "name": "python",
   "nbconvert_exporter": "python",
   "pygments_lexer": "ipython3",
   "version": "3.6.10"
  }
 },
 "nbformat": 4,
 "nbformat_minor": 4
}
