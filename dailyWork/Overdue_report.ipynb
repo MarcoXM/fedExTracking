{
 "cells": [
  {
   "cell_type": "code",
   "execution_count": 1,
   "metadata": {},
   "outputs": [],
   "source": [
    "%load_ext autoreload\n",
    "from config import Marco,content_generator\n",
    "import pandas as pd\n",
    "import os \n",
    "from utils import get_selected_cols_df,get_selected_values_df,joinStr,ensure_dir,get_daily_report_df,getDate_in_month,get_selected_values_over_df\n",
    "from datetime import datetime \n",
    "from glob import glob"
   ]
  },
  {
   "cell_type": "code",
   "execution_count": 2,
   "metadata": {},
   "outputs": [
    {
     "name": "stdout",
     "output_type": "stream",
     "text": [
      ".\\daily_route_data\\IOD_MONITORING_DETAIL_US_202062715958534065023646.csv\n"
     ]
    }
   ],
   "source": [
    "data_path = 'daily_route_data'\n",
    "\n",
    "df = pd.read_csv(glob(f\".\\{data_path}\\*.csv\")[-1])\n",
    "print(glob(f\".\\{data_path}\\*.csv\")[-1])"
   ]
  },
  {
   "cell_type": "code",
   "execution_count": 4,
   "metadata": {},
   "outputs": [],
   "source": [
    "class DailySheet:\n",
    "    def __init__(self, df, user):\n",
    "        \n",
    "        self.mode = ['end_of_month','regular'][ getDate_in_month() <= 22]\n",
    "        self.alertType = ['Overdue 4', 'Overdue 3', 'Overdue 2','Overdue 1', 'Today', 'Upcoming 1','Upcoming 2' ]\n",
    "        self.df = df\n",
    "        self.user = user\n",
    "\n",
    "    \n",
    "    \n",
    "    def filter_by_carriers(self,df):\n",
    "        return get_selected_values_df(df,self.user.carriers_code,col_name = 'Carrier Code')\n",
    "    \n",
    "    \n",
    "    def filter_by_allert(self,df):\n",
    "        self.all_allert_df = get_selected_values_df(df,self.alertType, col_name = 'Alert Type')\n",
    "        if self.mode == 'regular':\n",
    "            return get_selected_values_df(df,self.alertType[:5], col_name = 'Alert Type')\n",
    "        elif self.mode == 'end_of_month':\n",
    "            return get_selected_values_df(df,self.alertType, col_name = 'Alert Type')\n",
    "    \n",
    "    \n",
    "    def get_each_carriers_iod_email_content(self , cols_send2carrier):\n",
    "        user_carrier_df = self.filter_by_carriers(self.df)\n",
    "        past_alert_user_carrier_df = self.filter_by_allert(user_carrier_df)\n",
    "        \n",
    "        ## dont show too much information to the carriers\n",
    "        self.cleaned_df = past_alert_user_carrier_df\n",
    "        return get_selected_cols_df(past_alert_user_carrier_df, cols_send2carrier)\n",
    "    \n",
    "    \n",
    "    def get_high_value_loads(self):\n",
    "        high_values_df = get_selected_values_over_df(self.cleaned_df, 10000.00, col_name = 'Sales')\n",
    "        return high_values_df        \n",
    "    \n",
    "    \n",
    "   \n",
    "    \n",
    "\n",
    "    def save_daily_content2carriers(self, df, date_path):\n",
    "        unique_files = sorted(df['Carrier Code'].unique())\n",
    "        timestamp = str(datetime.now())[0:10]\n",
    "        date_path = os.path.join(joinStr('Carrier Code'),str(datetime.now())[0:10])\n",
    "        ensure_dir(date_path)\n",
    "        order = glob(f\".\\{data_path}\\*.csv\")[-1][-12:-4]\n",
    "        final_folder = os.path.join(date_path, str(order))\n",
    "        ensure_dir(final_folder)\n",
    "        \n",
    "        ## for fedex 3pm tracking \n",
    "        \n",
    "        for col_value in unique_files:\n",
    "            emails = Marco.carrier_email.get(col_value)\n",
    "            carrier_df = df[df['Carrier Code'] == col_value]\n",
    "            carrier_df.loc[0,'E-mail to'] = emails\n",
    "            carrier_df.loc[0,'Subject'] = f\"{col_value} Pending IOD {timestamp}\"\n",
    "            carrier_df.loc[0,'Content'] = content_generator(col_value)\n",
    "            carrier_df.to_csv(os.path.join(final_folder,f\"{col_value}_{timestamp}.csv\"),index = False)\n",
    "            print(f\" Finished {col_value} content !!\")\n",
    "        ## all carriers \n",
    "        df.to_csv(os.path.join(final_folder,f\"all_{timestamp}.csv\"),index = False)\n",
    "        print(f\" Finished ALL carriers content !!\")\n",
    "        \n",
    "        self.cleaned_df.to_excel(os.path.join(final_folder,f\"all_cols_{timestamp}.xlsx\"),index = False)\n",
    "        print(f\" Finished ALL cols and carriers content !!\")\n",
    "        \n",
    "        if self.mode == 'end_of_month':\n",
    "            self.get_high_value_loads().to_csv(os.path.join(final_folder,f\"high_values_{timestamp}.csv\"))\n",
    "            print(f\" Oh high values !! Finished high content !!\")\n",
    "                                               \n",
    "                \n",
    "        \n",
    "dailysheet = DailySheet(df,Marco)"
   ]
  },
  {
   "cell_type": "code",
   "execution_count": 9,
   "metadata": {},
   "outputs": [],
   "source": [
    "Over_due =  get_selected_values_df(dailysheet.filter_by_carriers(df),['Overdue 4', 'Overdue 3', 'Overdue 2'],col_name = 'Alert Type')"
   ]
  },
  {
   "cell_type": "code",
   "execution_count": 11,
   "metadata": {},
   "outputs": [],
   "source": [
    "date_path = os.path.join(joinStr('Carrier Code'),str(datetime.now())[0:10])\n",
    "timestamp = str(datetime.now())[0:10]\n",
    "Over_due.to_csv(os.path.join(date_path,f\"Over_due_Marco_{timestamp}.csv\"),index=False)"
   ]
  },
  {
   "cell_type": "code",
   "execution_count": null,
   "metadata": {},
   "outputs": [],
   "source": []
  }
 ],
 "metadata": {
  "kernelspec": {
   "display_name": "Python 3",
   "language": "python",
   "name": "python3"
  },
  "language_info": {
   "codemirror_mode": {
    "name": "ipython",
    "version": 3
   },
   "file_extension": ".py",
   "mimetype": "text/x-python",
   "name": "python",
   "nbconvert_exporter": "python",
   "pygments_lexer": "ipython3",
   "version": "3.6.10"
  }
 },
 "nbformat": 4,
 "nbformat_minor": 4
}
