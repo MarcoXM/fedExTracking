{
 "cells": [
  {
   "cell_type": "code",
   "execution_count": null,
   "metadata": {},
   "outputs": [],
   "source": [
    "from bs4 import BeautifulSoup\n"
   ]
  },
  {
   "cell_type": "code",
   "execution_count": null,
   "metadata": {},
   "outputs": [],
   "source": [
    "\n",
    "\n",
    "\n",
    "class FedExShipmentTracking:\n",
    "    def __init__(self, excel_file_path, col_name = \"col\"):\n",
    "        self.df = pd.read_excel(excel_file_path)\n",
    "        self.shipment_ids = self.df[col_name].values\n",
    "        \n",
    "        \n",
    "        \n",
    "    def __call__(self, max_amount_track = 30):\n",
    "        re\n",
    "        \n",
    "        for idx in range(0, len(self.df),max_amount_track):\n",
    "            \n",
    "            if idx + 30 <= len(self.df):\n",
    "                response = self.crawler.send(self.shipment_ids[idx:idx+30])\n",
    "            else:\n",
    "                response = self.crawler.send(self.shipment_ids[idx:])\n",
    "                \n",
    "                \n",
    "        return "
   ]
  }
 ],
 "metadata": {
  "kernelspec": {
   "display_name": "Python 3",
   "language": "python",
   "name": "python3"
  },
  "language_info": {
   "codemirror_mode": {
    "name": "ipython",
    "version": 3
   },
   "file_extension": ".py",
   "mimetype": "text/x-python",
   "name": "python",
   "nbconvert_exporter": "python",
   "pygments_lexer": "ipython3",
   "version": "3.7.3"
  }
 },
 "nbformat": 4,
 "nbformat_minor": 2
}
