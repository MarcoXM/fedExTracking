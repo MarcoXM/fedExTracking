{
 "cells": [
  {
   "cell_type": "code",
   "execution_count": 47,
   "metadata": {},
   "outputs": [
    {
     "name": "stdout",
     "output_type": "stream",
     "text": [
      " start !!!!\n",
      "we have 1272 fedex tracking number\n"
     ]
    },
    {
     "data": {
      "application/vnd.jupyter.widget-view+json": {
       "model_id": "ed1ca47c687140d0b210e6e8e7903c05",
       "version_major": 2,
       "version_minor": 0
      },
      "text/plain": [
       "HBox(children=(FloatProgress(value=0.0, max=43.0), HTML(value='')))"
      ]
     },
     "metadata": {},
     "output_type": "display_data"
    },
    {
     "name": "stdout",
     "output_type": "stream",
     "text": [
      "\n"
     ]
    }
   ],
   "source": [
    "from bs4 import BeautifulSoup\n",
    "import requests\n",
    "import json\n",
    "import urllib\n",
    "import time \n",
    "import os\n",
    "import pandas as pd\n",
    "from glob import glob\n",
    "from collections import ChainMap\n",
    "from tqdm.notebook import tqdm as tqdm_notebook\n",
    "from datetime import datetime \n",
    "\n",
    "\n",
    "def get_selected_cols_df(df, cols):\n",
    "    '''\n",
    "    cols : list of str \n",
    "    '''\n",
    "    return df[cols]\n",
    "\n",
    "def ensure_dir(directory):\n",
    "    if not os.path.exists(directory):\n",
    "        os.makedirs(directory)\n",
    "\n",
    "\n",
    "class FedExShipmentTracking:\n",
    "    def __init__(self, df, col_name = 'Pro No', verbose = True):\n",
    "        self.df = df\n",
    "        self.shipment_ids = self.df[col_name].values\n",
    "        self.verbose = verbose\n",
    "        self.url = 'https://www.fedex.com/trackingCal/track'\n",
    "        self.headers = {\n",
    "                    'Connection': 'keep-alive',\n",
    "                    'Pragma': 'no-cache',\n",
    "                    'Cache-Control': 'no-cache',\n",
    "                    'Accept': '*/*',\n",
    "                    'Accept-Encoding': 'gzip, deflate, br',\n",
    "                    'Accept-Language': 'en-US,en;q=0.9',\n",
    "                    \"Accept\" : \"application/json, text/javascript, */*; q=0.01\",\n",
    "                    'Connection': 'keep-alive',\n",
    "                    'User-Agent': 'Mozilla/5.0 (Windows NT 10.0; Win64; x64) AppleWebKit/537.36 (KHTML, like Gecko) Chrome/83.0.4103.116 Safari/537.36',\n",
    "                    'Host': 'www.fedex.com',\n",
    "                    'Origin': 'https://www.fedex.com',\n",
    "\n",
    "                    'Content-Type': 'application/x-www-form-urlencoded; charset=UTF-8',\n",
    "                    'X-Requested-With' : \"XMLHttpRequest\",\n",
    "                    'Cookie': 'fdx_cbid=30036807161594754925222750021081; fdx_locale=en_US; fdx_redirect=en-us; cc_path=us; s_ecid=MCMID%7C91240026263101807612795946297234918876; _abck=E6BF6C129F738D2B9D1C7477355EE277~0~YAAQL5EvFwBtVC1zAQAAAwvNTgSEKQJaNIT46+OyW/Rl1EiG2zsHB8tUiwjmoECJgd2c5DwAVVZJqwRE1WyaZUW6CBEIrzjTPlAfDtIA0eWI1PZx8cmmPMA8K043L/XtLVvra0HYHOpMsVBS/T9heRtUPhD61LP9fCtzlX8ASW2c/LueOQF0WnVI6fhEBpzT7lxVey3V7rIXOIdQx785tSS1+3g9TOPU74tgm0TvJyIpOTjLhX27RoU7wo+mzSD5HKwhzKC3pckP0hjKF1EGAXRyh7NQTD4m08aQDFxo0f0BS7BbSbLuVXHDuKdgHLRb5nJkiLs4~-1~-1~-1; _gcl_au=1.1.494437621.1594754928; tracking_locale=en_US; wdpl_id=30036807161594754925222750021081_1594754941226; optimizelyEndUserId=oeu1594842710172r0.13632731098668605; s_vi=[CS]v1|2F8820BB8515E1A5-6000073AEC279C6F[CE]; siteDC=edc; mbox=PC#1595273312475-908373.35_0#1596830577|session#1595620934343-546912#1595622837; Rbt=f0; AMCVS_1E22171B520E93BF0A490D44%40AdobeOrg=1; Nina-nina-fedex-session=%7B%22loginStatus%22%3A%22loggedOut%22%2C%22locale%22%3A%22en_us%22%2C%22lcstat%22%3Afalse%7D; s_sq=%5B%5BB%5D%5D; xacc=US; bm_sz=4537EBE6509A5D440AD47ED3F80C79BE~YAAQr3lGaOb59X9zAQAAPkn1iwjilFEKU/Hxbvqfeprv1pCh3PT2Me3bTAJQ12QgCNOtfHlxS+XK5Fa+X0LlfEm6kIgpH+Dlm9NQ0ypUeJ9BwqNwBuXI2IP6RGDvdEnsLnYg9JbJni8A/iP8YVPtGzSLZtucUOOqxj45znRIaMvvfQ7HLxOikNDq/2LQ4us=; ak_bmsc=CD81CB8828BE3D10205B58F77A78AF9F684679AF5C7D00006EAF1D5F61860971~plb5JNNd4MRJ+ZVIxorPq7NA1gFLL5TFJ/LEr5c2hx86FWjsmi7lF08BdqCL5Ee7PLBqfubVT/xzkPj+sl4riDqFyHe68mlzdT8V7t3XgyUTkNeg/eFURmr63IljjawrpW2KEswRN4XDAt1fnGzl3jEGV6PFsD+M6ECn5Cswi/rXsj0+axDVvBsXBdmloZeogYOnwKaYvTpNtxtPyYwrEzrRckCOGkkjzC/xtoyE1o6lID6AbzuMtxQvUEGAiqoQg5; AMCV_1E22171B520E93BF0A490D44%40AdobeOrg=1075005958%7CMCIDTS%7C18470%7CMCMID%7C91240026263101807612795946297234918876%7CMCAAMLH-1596385774%7C7%7CMCAAMB-1596385774%7CRKhpRz8krg2tLO6pguXWp5olkAcUniQYPHaMWWgdJ3xzPWQmdj0y%7CMCOPTOUT-1595788174s%7CNONE%7CMCAID%7CNONE%7CvVersion%7C4.4.1; isTablet=false; isMobile=false; isWireless=false; level=test; aemserver=Prod-c0015884.prod.cloud.fedex.com; s_pers=%20s_vnum%3D1595822400191%2526vn%253D1%7C1595822400191%3B%20gpv_pageName%3Dus%252Fen%252Ffedex%252Funified%252Fsummarypage%7C1595782777780%3B%20s_nr%3D1595780977791-Repeat%7C1627316977791%3B%20s_invisit%3Dtrue%7C1595782777802%3B%20s_dfa%3Dfedexglbl%252Cfedexus%7C1595782797031%3B; s_sess=%20s_visit%3D1%3B%20SC_LINKS%3D%3B%20s_cc%3Dtrue%3B%20s_ppv%3Dus%252Fen%252Ffedex%252Funified%252Fsummarypage%252C89%252C89%252C1461%3B%20setLink%3D%3B; bm_sv=4EFB739A657166D148018747EECAE444~EEeDC8RhatPCxiJEcuvlyKw8uW9YjuNB0LsSrvXfL/4RUZTVIwcQhJSOOddouq0QvxUkB0laCZWErSpRDgmVOcGGbYaEHeDEh/JdTumXJZ3ol/DQnfjjhX6/zG1XHpRXTeqIIk+l98DMBDWQKTaMT4fzKmyVbors5C8i0jX6GsA='\n",
    "                    } \n",
    "\n",
    "    def track(self, max_amount_track = 30):\n",
    "        print(\" start !!!!\")\n",
    "        print(\"we have {} fedex tracking number\".format(len(self.df)))\n",
    "        final_data = []\n",
    "        for idx in tqdm_notebook(range(0, len(self.df),max_amount_track)):\n",
    "            if idx + 30 <= len(self.df):\n",
    "                data = self.encode(self.shipment_ids[idx:idx+30])\n",
    "                response = self.crawl(data)\n",
    "            else:\n",
    "                data = self.encode(self.shipment_ids[idx:])\n",
    "                response = self.crawl(data)\n",
    "            \n",
    "            bt_result = self.parse(response)\n",
    "            final_data.extend(bt_result)\n",
    "            time.sleep(2.5)\n",
    "        return final_data\n",
    "  \n",
    "    def encode(self,ids):\n",
    "        form_data = {\"data\":{\"TrackPackagesRequest\":{\n",
    "                    \"appType\":\"WTRK\",\n",
    "                    \"appDeviceType\":\"DESKTOP\",\n",
    "                    \"supportHTML\":True,\n",
    "                    \"supportCurrentLocation\":True,\n",
    "                    \"uniqueKey\":\"\",\n",
    "                    \"processingParameters\":{},\n",
    "                    \"trackingInfoList\":[{\"trackNumberInfo\":{\"trackingNumber\":str(i),\"trackingQualifier\":\"\",\"trackingCarrier\":\"\"}} for i in ids]}\n",
    "                            },\n",
    "                    \"action\":\"trackpackages\",\n",
    "                    \"locale\":\"en_US\",\n",
    "                    \"version\":\"1\",\n",
    "                    \"format\":\"json\",\n",
    "                    }\n",
    "\n",
    "        data = 'data='+ json.dumps(form_data['data'],separators=(',',':')) + '&action=trackpackages&locale=en_US&version=1&format=json'\n",
    "        return data\n",
    "        \n",
    "    def crawl(self,data):\n",
    "        res_id= requests.post(self.url,data=data,headers = self.headers)\n",
    "        respond = res_id.json()\n",
    "        return respond\n",
    "    \n",
    "    def parse(self, respond): ## list of dict \n",
    "        packages  = respond['TrackPackagesResponse'].get('packageList',[])\n",
    "        if self.verbose:\n",
    "            print(f\"{len(packages)} loads tracked !!!\")\n",
    "        batch_result = []\n",
    "        for p in packages:\n",
    "            data = [p['displayTrackingNbr'],\n",
    "                    p['scanEventList'][0]['status'],\n",
    "                    p['displayEstDeliveryDateTime'] if p['displayActDeliveryDateTime'] == \"\" else p['displayActDeliveryDateTime'],\n",
    "                    p['scanEventList'][0]['scanDetails']]\n",
    "            if self.verbose:\n",
    "                print(data)\n",
    "                \n",
    "            batch_result.append(\n",
    "                {data[0]:{\n",
    "                    \"Action\":data[1],\n",
    "                    \"Status\" : data[2],\n",
    "                    \"Details\":data[3]\n",
    "                }}\n",
    "            )\n",
    "            \n",
    "        return batch_result\n",
    "\n",
    "\n",
    "FEDEX_CARRIER_CODE = ['FDEN','FDEN_EXP','FXFE']\n",
    "FILE_PATH = glob(\".\\data\\IOD_MONITORING_DETAIL_US_*.csv\")[-1]\n",
    "df_origin = pd.read_csv(FILE_PATH)\n",
    "df = df_origin[df_origin['Carrier Code'].isin(FEDEX_CARRIER_CODE)]\n",
    "\n",
    "test = FedExShipmentTracking(df,verbose = False)    \n",
    "result = test.track()\n",
    "result = dict(ChainMap(*result))"
   ]
  },
  {
   "cell_type": "code",
   "execution_count": 48,
   "metadata": {},
   "outputs": [
    {
     "name": "stderr",
     "output_type": "stream",
     "text": [
      "C:\\Users\\marco.wang\\Miniconda3\\envs\\pantos\\lib\\site-packages\\ipykernel_launcher.py:6: SettingWithCopyWarning: \n",
      "A value is trying to be set on a copy of a slice from a DataFrame.\n",
      "Try using .loc[row_indexer,col_indexer] = value instead\n",
      "\n",
      "See the caveats in the documentation: https://pandas.pydata.org/pandas-docs/stable/user_guide/indexing.html#returning-a-view-versus-a-copy\n",
      "  \n",
      "C:\\Users\\marco.wang\\Miniconda3\\envs\\pantos\\lib\\site-packages\\ipykernel_launcher.py:7: SettingWithCopyWarning: \n",
      "A value is trying to be set on a copy of a slice from a DataFrame.\n",
      "Try using .loc[row_indexer,col_indexer] = value instead\n",
      "\n",
      "See the caveats in the documentation: https://pandas.pydata.org/pandas-docs/stable/user_guide/indexing.html#returning-a-view-versus-a-copy\n",
      "  import sys\n",
      "C:\\Users\\marco.wang\\Miniconda3\\envs\\pantos\\lib\\site-packages\\ipykernel_launcher.py:8: SettingWithCopyWarning: \n",
      "A value is trying to be set on a copy of a slice from a DataFrame.\n",
      "Try using .loc[row_indexer,col_indexer] = value instead\n",
      "\n",
      "See the caveats in the documentation: https://pandas.pydata.org/pandas-docs/stable/user_guide/indexing.html#returning-a-view-versus-a-copy\n",
      "  \n"
     ]
    }
   ],
   "source": [
    "\n",
    "timestamp = str(datetime.now())        \n",
    "\n",
    "today_date = timestamp[:10]\n",
    "timestamp = \"\".join([d for d  in timestamp if d.isdigit()])\n",
    "ensure_dir(today_date)\n",
    "df['Action'] = df['Pro No'].apply(lambda x : result[x]['Action'])\n",
    "df['Status'] = df['Pro No'].apply(lambda x : result[x]['Status'])\n",
    "df['Details'] = df['Pro No'].apply(lambda x : result[x]['Details'])\n",
    "\n",
    "df.to_excel(os.path.join(today_date,f\"report_{timestamp[8:12]}.xlsx\"),index=False)"
   ]
  },
  {
   "cell_type": "code",
   "execution_count": 42,
   "metadata": {},
   "outputs": [
    {
     "data": {
      "text/plain": [
       "'2020-08-07 16:09:17.802342'"
      ]
     },
     "execution_count": 42,
     "metadata": {},
     "output_type": "execute_result"
    }
   ],
   "source": [
    "timestamp = str(datetime.now())        \n",
    "today_date = timestamp[:10]\n",
    "timestamp"
   ]
  },
  {
   "cell_type": "code",
   "execution_count": 28,
   "metadata": {},
   "outputs": [
    {
     "data": {
      "text/plain": [
       "{'date': '',\n",
       " 'time': '',\n",
       " 'gmtOffset': '',\n",
       " 'status': '',\n",
       " 'statusCD': '',\n",
       " 'scanLocation': '',\n",
       " 'scanDetails': '',\n",
       " 'scanDetailsHtml': '',\n",
       " 'rtrnShprTrkNbr': '',\n",
       " 'statusExceptionCode': None,\n",
       " 'isException': False,\n",
       " 'isDelException': False,\n",
       " 'isClearanceDelay': False,\n",
       " 'isDelivered': False}"
      ]
     },
     "execution_count": 28,
     "metadata": {},
     "output_type": "execute_result"
    }
   ],
   "source": [
    "ids = [5402075184,5402033851]\n",
    "form_data = {\"data\":{\"TrackPackagesRequest\":{\n",
    "                    \"appType\":\"WTRK\",\n",
    "                    \"appDeviceType\":\"DESKTOP\",\n",
    "                    \"supportHTML\":True,\n",
    "                    \"supportCurrentLocation\":True,\n",
    "                    \"uniqueKey\":\"\",\n",
    "                    \"processingParameters\":{},\n",
    "                    \"trackingInfoList\":[{\"trackNumberInfo\":{\"trackingNumber\":str(i),\"trackingQualifier\":\"\",\"trackingCarrier\":\"\"}} for i in ids]}\n",
    "                            },\n",
    "                    \"action\":\"trackpackages\",\n",
    "                    \"locale\":\"en_US\",\n",
    "                    \"version\":\"1\",\n",
    "                    \"format\":\"json\",\n",
    "                    }\n",
    "\n",
    "data = 'data='+ json.dumps(form_data['data'],separators=(',',':')) + '&action=trackpackages&locale=en_US&version=1&format=json'\n",
    "\n",
    "res_id= requests.post(test.url,data=data,headers = test.headers)\n",
    "respond = res_id.json()\n",
    "packages  = respond['TrackPackagesResponse'].get('packageList',[])\n",
    "packages[0]['scanEventList'][0]"
   ]
  },
  {
   "cell_type": "code",
   "execution_count": null,
   "metadata": {},
   "outputs": [],
   "source": []
  },
  {
   "cell_type": "code",
   "execution_count": null,
   "metadata": {},
   "outputs": [],
   "source": []
  },
  {
   "cell_type": "code",
   "execution_count": 5,
   "metadata": {},
   "outputs": [],
   "source": [
    "url = 'https://partners.pegasuslogistics.com/Tracking/TrackingDetails?TrackData=%5B%222%22%2C%2210877603%22%2C%22TrackWithoutlogin%22%2C%221%22%5D&_=1596138223094'"
   ]
  },
  {
   "cell_type": "code",
   "execution_count": 6,
   "metadata": {},
   "outputs": [],
   "source": [
    "response = requests.get(url)"
   ]
  },
  {
   "cell_type": "code",
   "execution_count": 7,
   "metadata": {},
   "outputs": [
    {
     "data": {
      "text/plain": [
       "200"
      ]
     },
     "execution_count": 7,
     "metadata": {},
     "output_type": "execute_result"
    }
   ],
   "source": [
    "response.status_code"
   ]
  },
  {
   "cell_type": "code",
   "execution_count": 8,
   "metadata": {},
   "outputs": [],
   "source": [
    "from bs4 import BeautifulSoup\n",
    "soup = BeautifulSoup(response.text, 'html.parser')\n"
   ]
  },
  {
   "cell_type": "code",
   "execution_count": 9,
   "metadata": {},
   "outputs": [],
   "source": [
    "for link in soup.find_all(\"div\",class_=\"Margin\"):\n",
    "    d = link.text.strip().split(\"\\n\\r\\n\")"
   ]
  },
  {
   "cell_type": "code",
   "execution_count": 10,
   "metadata": {},
   "outputs": [
    {
     "data": {
      "text/plain": [
       "{'Origin ': '                        ATL',\n",
       " 'Destination': '                        EWR',\n",
       " 'Latest Status': '                        Delivered',\n",
       " 'Weight / Pieces': '2586.0 / \\r\\n                        6',\n",
       " 'Pickup Date': '                        7/21/2020 8:00:00 AM',\n",
       " 'Estimated Delivery': '\\r\\n07/23/2020 05:00:00 PM',\n",
       " 'Delivery Date': '07/23/2020 04:30:00 PM',\n",
       " 'Signed For By': '                        E.R.',\n",
       " 'Shipper Reference': '                        10877603',\n",
       " 'Consignee Reference': '                        10877603',\n",
       " 'Other Reference': '                        10877603'}"
      ]
     },
     "execution_count": 10,
     "metadata": {},
     "output_type": "execute_result"
    }
   ],
   "source": [
    "data= {}\n",
    "for link in soup.find_all(\"div\",class_=\"Margin\"):\n",
    "    d = link.text.strip().split(\"\\n\\r\\n\")\n",
    "    data[d[0]] = d[1] if len(d)==2 else \"Null\"\n",
    "    \n",
    "data"
   ]
  },
  {
   "cell_type": "code",
   "execution_count": 11,
   "metadata": {},
   "outputs": [],
   "source": [
    "class PGAAShipmentTracking:\n",
    "    def __init__(self, df, col_name = 'Pro No', verbose = True):\n",
    "        self.df = df\n",
    "        self.shipment_ids = self.df[col_name].values\n",
    "        self.verbose = verbose\n",
    "        self.url = 'https://partners.pegasuslogistics.com/Tracking/TrackingDetails'\n",
    "        self.headers = {\n",
    "                    'Connection': 'keep-alive',\n",
    "                    'Pragma': 'no-cache',\n",
    "                    'Cache-Control': 'no-cache',\n",
    "                    'Accept': 'text/html, */*; q=0.01',\n",
    "                    'Accept-Encoding': 'gzip, deflate, br',\n",
    "                    'Accept-Language': 'en-US,en;q=0.9',\n",
    "                    \"Accept\" : \"application/json, text/javascript, */*; q=0.01\",\n",
    "                    'Connection': 'keep-alive',\n",
    "                    'User-Agent': 'Mozilla/5.0 (Windows NT 10.0; Win64; x64) AppleWebKit/537.36 (KHTML, like Gecko) Chrome/83.0.4103.116 Safari/537.36',\n",
    "                    'Host': 'partners.pegasuslogistics.com',\n",
    "                    'Content-Type': 'application/x-www-form-urlencoded; charset=UTF-8',\n",
    "                    'X-Requested-With' : \"XMLHttpRequest\",\n",
    "                   } \n",
    "\n",
    "    def track(self, max_amount_track = 1):\n",
    "        print(\" start !!!!\")\n",
    "        print(\"we have {} PGAA tracking number\".format(len(self.df)))\n",
    "        final_data = []\n",
    "        for idx in range(0, len(self.df),max_amount_track):\n",
    "            if idx + 30 <= len(self.df):\n",
    "                data = self.encode(self.shipment_ids[idx:idx+30])\n",
    "                response = self.crawl(data)\n",
    "            else:\n",
    "                data = self.encode(self.shipment_ids[idx:])\n",
    "                response = self.crawl(data)\n",
    "            \n",
    "            bt_result = self.parse(response)\n",
    "            final_data.extend(bt_result)\n",
    "            time.sleep(5)\n",
    "        return final_data\n",
    "  \n",
    "    def encode(self,ids):\n",
    "        form_data = {\"data\":{\"TrackPackagesRequest\":{\n",
    "                    \"appType\":\"WTRK\",\n",
    "                    \"appDeviceType\":\"DESKTOP\",\n",
    "                    \"supportHTML\":True,\n",
    "                    \"supportCurrentLocation\":True,\n",
    "                    \"uniqueKey\":\"\",\n",
    "                    \"processingParameters\":{},\n",
    "                    \"trackingInfoList\":[{\"trackNumberInfo\":{\"trackingNumber\":str(i),\"trackingQualifier\":\"\",\"trackingCarrier\":\"\"}} for i in ids]}\n",
    "                            },\n",
    "                    \"action\":\"trackpackages\",\n",
    "                    \"locale\":\"en_US\",\n",
    "                    \"version\":\"1\",\n",
    "                    \"format\":\"json\",\n",
    "                    }\n",
    "\n",
    "        data = 'data='+ json.dumps(form_data['data'],separators=(',',':')) + '&action=trackpackages&locale=en_US&version=1&format=json'\n",
    "        return data\n",
    "        \n",
    "    def crawl(self,encode_url):\n",
    "        respond= requests.get(encode_url)\n",
    "        return respond\n",
    "    \n",
    "    def parse(self, respond): ## list of dict \n",
    "        soup = BeautifulSoup(respond.text, 'html.parser')\n",
    "        data= {}\n",
    "        for link in soup.find_all(\"div\",class_=\"Margin\"):\n",
    "            d = link.text.strip().split(\"\\n\\r\\n\")\n",
    "            data[d[0]] = d[1] if len(d)==2 else \"Null\"\n",
    "            \n",
    "        return {data['Shipper Reference'],data}"
   ]
  },
  {
   "cell_type": "code",
   "execution_count": null,
   "metadata": {},
   "outputs": [],
   "source": []
  },
  {
   "cell_type": "code",
   "execution_count": null,
   "metadata": {},
   "outputs": [],
   "source": []
  }
 ],
 "metadata": {
  "kernelspec": {
   "display_name": "Python 3",
   "language": "python",
   "name": "python3"
  },
  "language_info": {
   "codemirror_mode": {
    "name": "ipython",
    "version": 3
   },
   "file_extension": ".py",
   "mimetype": "text/x-python",
   "name": "python",
   "nbconvert_exporter": "python",
   "pygments_lexer": "ipython3",
   "version": "3.6.10"
  }
 },
 "nbformat": 4,
 "nbformat_minor": 2
}
